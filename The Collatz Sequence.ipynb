{
 "cells": [
  {
   "cell_type": "code",
   "execution_count": 7,
   "metadata": {},
   "outputs": [],
   "source": [
    "def collatz(num):\n",
    "    if int(num)%2==0:\n",
    "        return int(num)//2\n",
    "    else:\n",
    "        return 3*int(num)+1\n",
    "\n",
    "def collatz_seq(num):\n",
    "    while num>1:\n",
    "        return collatz(num)\n",
    "        num=collatz(num)"
   ]
  },
  {
   "cell_type": "code",
   "execution_count": 8,
   "metadata": {},
   "outputs": [
    {
     "data": {
      "text/plain": [
       "10"
      ]
     },
     "execution_count": 8,
     "metadata": {},
     "output_type": "execute_result"
    }
   ],
   "source": [
    "collatz_seq(3)"
   ]
  },
  {
   "cell_type": "code",
   "execution_count": 10,
   "metadata": {},
   "outputs": [
    {
     "data": {
      "text/plain": [
       "5"
      ]
     },
     "execution_count": 10,
     "metadata": {},
     "output_type": "execute_result"
    }
   ],
   "source": [
    "def z_seq(num):\n",
    "    while num>1:\n",
    "        return 5\n",
    "        num=num-1\n",
    "        \n",
    "z_seq(3)"
   ]
  },
  {
   "cell_type": "code",
   "execution_count": 28,
   "metadata": {},
   "outputs": [
    {
     "data": {
      "text/plain": [
       "'apples,bananas,tofu and cats'"
      ]
     },
     "execution_count": 28,
     "metadata": {},
     "output_type": "execute_result"
    }
   ],
   "source": [
    "spam = ['apples', 'bananas', 'tofu', 'cats']\n",
    "def list_sen(spam):\n",
    "    l=len(spam)\n",
    "    x=\"\"\n",
    "    for i in range(l):\n",
    "        if i==0 or i==(len(spam)-1):\n",
    "            continue\n",
    "        else:\n",
    "            x=x+\",\"+spam[i]\n",
    "    return spam[0]+x+\" and \"+spam[len(spam)-1]\n",
    "\n",
    "list_sen(spam)"
   ]
  },
  {
   "cell_type": "code",
   "execution_count": 29,
   "metadata": {},
   "outputs": [
    {
     "data": {
      "text/plain": [
       "'bananas and tofu'"
      ]
     },
     "execution_count": 29,
     "metadata": {},
     "output_type": "execute_result"
    }
   ],
   "source": [
    "spam = ['bananas', 'tofu']\n",
    "def list_sen(spam):\n",
    "    l=len(spam)\n",
    "    x=\"\"\n",
    "    for i in range(l):\n",
    "        if i==0 or i==(len(spam)-1):\n",
    "            continue\n",
    "        else:\n",
    "            x=x+\",\"+spam[i]\n",
    "    return spam[0]+x+\" and \"+spam[len(spam)-1]\n",
    "\n",
    "list_sen(spam)"
   ]
  },
  {
   "cell_type": "code",
   "execution_count": 52,
   "metadata": {},
   "outputs": [
    {
     "name": "stdout",
     "output_type": "stream",
     "text": [
      "..OO.OO..\n",
      ".OOOOOOO.\n",
      ".OOOOOOO.\n",
      "..OOOOO..\n",
      "...OOO...\n",
      "....O....\n"
     ]
    }
   ],
   "source": [
    "grid = [['.', '.', '.', '.', '.', '.'],\n",
    "        ['.', 'O', 'O', '.', '.', '.'],\n",
    "        ['O', 'O', 'O', 'O', '.', '.'],\n",
    "        ['O', 'O', 'O', 'O', 'O', '.'],\n",
    "        ['.', 'O', 'O', 'O', 'O', 'O'],\n",
    "        ['O', 'O', 'O', 'O', 'O', '.'],\n",
    "        ['O', 'O', 'O', 'O', '.', '.'],\n",
    "        ['.', 'O', 'O', '.', '.', '.'],\n",
    "        ['.', '.', '.', '.', '.', '.']]\n",
    "\n",
    "for j in range(len(grid[0])):\n",
    "    for i in range(len(grid)):\n",
    "               print(grid[i][j],end=\"\")\n",
    "    print(\"\")"
   ]
  },
  {
   "cell_type": "code",
   "execution_count": null,
   "metadata": {},
   "outputs": [],
   "source": []
  }
 ],
 "metadata": {
  "kernelspec": {
   "display_name": "Python 3",
   "language": "python",
   "name": "python3"
  },
  "language_info": {
   "codemirror_mode": {
    "name": "ipython",
    "version": 3
   },
   "file_extension": ".py",
   "mimetype": "text/x-python",
   "name": "python",
   "nbconvert_exporter": "python",
   "pygments_lexer": "ipython3",
   "version": "3.5.4"
  }
 },
 "nbformat": 4,
 "nbformat_minor": 2
}
