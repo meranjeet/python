{
 "cells": [
  {
   "cell_type": "code",
   "execution_count": 2,
   "id": "active-sector",
   "metadata": {},
   "outputs": [
    {
     "data": {
      "text/plain": [
       "{'A': 2, 'B': 3, 'C': 2, 'D': 1, 'R': 1, 'M': 1, 'S': 0, 'P': 0}"
      ]
     },
     "execution_count": 2,
     "metadata": {},
     "output_type": "execute_result"
    }
   ],
   "source": [
    "a = [['A'],['A','B'],['A','C'],['B','D'],['B','C'],['R','M'], ['S'],['P'], ['A']]\n",
    "d={}\n",
    "for i in a:\n",
    "    if len(i)==2:\n",
    "        a0=i[0]\n",
    "        a1=i[1]\n",
    "        if a0 in d:\n",
    "            d[a0]=d[a0]+1\n",
    "        else:\n",
    "            d[a0]=1\n",
    "        if a1 in d:\n",
    "            d[a1]=d[a1]+1\n",
    "        else:\n",
    "            d[a1]=1\n",
    "    else:\n",
    "        a0=i[0]\n",
    "        if a0 not in d:\n",
    "            d[a0]=0\n",
    "d"
   ]
  },
  {
   "cell_type": "code",
   "execution_count": 9,
   "id": "experimental-fairy",
   "metadata": {},
   "outputs": [
    {
     "name": "stdout",
     "output_type": "stream",
     "text": [
      "1\n"
     ]
    }
   ],
   "source": [
    "s=[1,2,2,3,1]\n",
    "for i in range(len(s)):\n",
    "    if s[i] in s[i+1:]:\n",
    "        print(s[i])\n",
    "        break"
   ]
  },
  {
   "cell_type": "code",
   "execution_count": 10,
   "id": "editorial-indicator",
   "metadata": {},
   "outputs": [
    {
     "data": {
      "text/plain": [
       "3"
      ]
     },
     "execution_count": 10,
     "metadata": {},
     "output_type": "execute_result"
    }
   ],
   "source": [
    "s='abc'\n",
    "len(s)\n",
    "    "
   ]
  },
  {
   "cell_type": "code",
   "execution_count": 11,
   "id": "skilled-robert",
   "metadata": {},
   "outputs": [
    {
     "data": {
      "text/plain": [
       "6"
      ]
     },
     "execution_count": 11,
     "metadata": {},
     "output_type": "execute_result"
    }
   ],
   "source": [
    "s='abc de'\n",
    "len(s)"
   ]
  },
  {
   "cell_type": "code",
   "execution_count": 13,
   "id": "interpreted-division",
   "metadata": {},
   "outputs": [
    {
     "name": "stdout",
     "output_type": "stream",
     "text": [
      "abc\n",
      "de\n",
      "2\n"
     ]
    }
   ],
   "source": [
    "c=0\n",
    "for i in s.split():\n",
    "    print(i)\n",
    "    c=c+1\n",
    "print(c)"
   ]
  },
  {
   "cell_type": "code",
   "execution_count": 14,
   "id": "vocational-invite",
   "metadata": {},
   "outputs": [
    {
     "data": {
      "text/plain": [
       "['abc', 'ed', 'je']"
      ]
     },
     "execution_count": 14,
     "metadata": {},
     "output_type": "execute_result"
    }
   ],
   "source": [
    "inpstr = \"aaa\"\n",
    "substr = \"a\"\n",
    "j='abc ed je'\n",
    "j.split()"
   ]
  },
  {
   "cell_type": "code",
   "execution_count": 23,
   "id": "independent-ending",
   "metadata": {},
   "outputs": [
    {
     "data": {
      "text/plain": [
       "3"
      ]
     },
     "execution_count": 23,
     "metadata": {},
     "output_type": "execute_result"
    }
   ],
   "source": [
    "i='aaa'\n",
    "s='a'\n",
    "c=0\n",
    "for j in range(len(i)-len(s)+1):\n",
    "    if i[j:j+len(s)]==s:\n",
    "        c=c+1\n",
    "c"
   ]
  },
  {
   "cell_type": "code",
   "execution_count": 20,
   "id": "recent-scott",
   "metadata": {},
   "outputs": [
    {
     "data": {
      "text/plain": [
       "[[1, 2, 3], (4, 5), 6]"
      ]
     },
     "execution_count": 20,
     "metadata": {},
     "output_type": "execute_result"
    }
   ],
   "source": [
    "inp = [[[1, 2, 3], (4, 5)], {6:1}]\n",
    "o=[]\n",
    "for i in inp:\n",
    "    if isinstance(i,(list,dict,tuple)):\n",
    "        o.extend(i)\n",
    "    else:\n",
    "        o.append(i)\n",
    "o"
   ]
  },
  {
   "cell_type": "code",
   "execution_count": 21,
   "id": "exceptional-spending",
   "metadata": {},
   "outputs": [],
   "source": [
    "def nst(inp):\n",
    "    o=[]\n",
    "    for i in inp:\n",
    "        if isinstance(i,(list,dict,tuple)):\n",
    "            o.extend(nst(i))\n",
    "        else:\n",
    "            o.append(i)\n",
    "    return o"
   ]
  },
  {
   "cell_type": "code",
   "execution_count": 22,
   "id": "democratic-stereo",
   "metadata": {},
   "outputs": [
    {
     "data": {
      "text/plain": [
       "[1, 2, 3, 4, 5, 6]"
      ]
     },
     "execution_count": 22,
     "metadata": {},
     "output_type": "execute_result"
    }
   ],
   "source": [
    "nst([[[1, 2, 3], (4, 5)], {6:1}])"
   ]
  },
  {
   "cell_type": "code",
   "execution_count": 32,
   "id": "electrical-identity",
   "metadata": {},
   "outputs": [
    {
     "data": {
      "text/plain": [
       "[]"
      ]
     },
     "execution_count": 32,
     "metadata": {},
     "output_type": "execute_result"
    }
   ],
   "source": [
    "ip='123.4.d.10.'\n",
    "o=[]\n",
    "if ip.count('.')==3:\n",
    "    for i in ip.split('.'):\n",
    "        if i.isdigit():\n",
    "            if int(i)>=0 and int(i)<=128:\n",
    "                o.append('yes')\n",
    "o"
   ]
  },
  {
   "cell_type": "code",
   "execution_count": 37,
   "id": "flush-advocacy",
   "metadata": {},
   "outputs": [
    {
     "data": {
      "text/plain": [
       "(8, 7)"
      ]
     },
     "execution_count": 37,
     "metadata": {},
     "output_type": "execute_result"
    }
   ],
   "source": [
    "s='I am RK'\n",
    "s=\" ,  hi   there\"\n",
    "a=0\n",
    "b=0\n",
    "for i in s.split(' '):\n",
    "    b=b+1\n",
    "    a=a+len(i)\n",
    "a/b\n",
    "a,b"
   ]
  },
  {
   "cell_type": "code",
   "execution_count": 38,
   "id": "crucial-photographer",
   "metadata": {},
   "outputs": [
    {
     "data": {
      "text/plain": [
       "23"
      ]
     },
     "execution_count": 38,
     "metadata": {},
     "output_type": "execute_result"
    }
   ],
   "source": [
    "arr = [(0, 10), (13, 18), (15, 23), (21, 26)]\n",
    "d={}\n",
    "for i in arr:\n",
    "    for j in range(i[0]+1,i[1]+1):\n",
    "        if j not in d:\n",
    "            d[j]=1\n",
    "len(d)"
   ]
  },
  {
   "cell_type": "code",
   "execution_count": 39,
   "id": "funny-student",
   "metadata": {},
   "outputs": [
    {
     "data": {
      "text/plain": [
       "['Hi,', 'How', 'hi', \"I'm\", 'fine,', 'how']"
      ]
     },
     "execution_count": 39,
     "metadata": {},
     "output_type": "execute_result"
    }
   ],
   "source": [
    "sen1= \"Hi, How are you hi\"\n",
    "sen2= \"I'm fine, how are you\"\n",
    "o=[]\n",
    "for i in sen1.split(' '):\n",
    "    if i not in sen2.split(' '):\n",
    "        o.append(i)\n",
    "for i in sen2.split(' '):\n",
    "    if i not in sen1.split(' '):\n",
    "        o.append(i)\n",
    "o"
   ]
  },
  {
   "cell_type": "code",
   "execution_count": 42,
   "id": "compatible-shadow",
   "metadata": {},
   "outputs": [
    {
     "data": {
      "text/plain": [
       "{'a': 1, 'b': 2, 'c': 2, 'd': 3, 'e': 4}"
      ]
     },
     "execution_count": 42,
     "metadata": {},
     "output_type": "execute_result"
    }
   ],
   "source": [
    "d={'a':1,'b':2,'c':2,'d':3,'e':4}\n",
    "d"
   ]
  },
  {
   "cell_type": "code",
   "execution_count": 57,
   "id": "desirable-gathering",
   "metadata": {},
   "outputs": [
    {
     "data": {
      "text/plain": [
       "'b'"
      ]
     },
     "execution_count": 57,
     "metadata": {},
     "output_type": "execute_result"
    }
   ],
   "source": [
    "n=3\n",
    "o_list=[]\n",
    "for i in d.values():\n",
    "    o_list.append(i)\n",
    "o_list.sort()\n",
    "o_list[-n]\n",
    "o_v=[]\n",
    "for i in d:\n",
    "    if d[i]==o_list[-n]:\n",
    "        o_v.append(i)\n",
    "o_v.sort()\n",
    "o_v[0]\n",
    "    "
   ]
  },
  {
   "cell_type": "code",
   "execution_count": 51,
   "id": "passive-rolling",
   "metadata": {},
   "outputs": [
    {
     "data": {
      "text/plain": [
       "[1, 2, 2, 3, 4]"
      ]
     },
     "execution_count": 51,
     "metadata": {},
     "output_type": "execute_result"
    }
   ],
   "source": [
    "o_list"
   ]
  },
  {
   "cell_type": "code",
   "execution_count": 63,
   "id": "electoral-monroe",
   "metadata": {},
   "outputs": [
    {
     "data": {
      "text/plain": [
       "[5, 3, 2, 6]"
      ]
     },
     "execution_count": 63,
     "metadata": {},
     "output_type": "execute_result"
    }
   ],
   "source": [
    "l=[5,5,3,2,2,6,6,6]\n",
    "o=[]\n",
    "for i in range(0,len(l)):\n",
    "    if l[i] in l[i+1:]:\n",
    "        continue\n",
    "    else:\n",
    "        o.append(l[i])\n",
    "o\n",
    "    "
   ]
  },
  {
   "cell_type": "code",
   "execution_count": 59,
   "id": "worth-encounter",
   "metadata": {},
   "outputs": [
    {
     "name": "stdout",
     "output_type": "stream",
     "text": [
      "0\n",
      "1\n",
      "2\n"
     ]
    }
   ],
   "source": [
    "for i in range(0,3):\n",
    "    print(i)"
   ]
  },
  {
   "cell_type": "code",
   "execution_count": 65,
   "id": "improving-harvey",
   "metadata": {},
   "outputs": [
    {
     "ename": "AssertionError",
     "evalue": "bhak x should be 'hello'",
     "output_type": "error",
     "traceback": [
      "\u001b[1;31m---------------------------------------------------------------------------\u001b[0m",
      "\u001b[1;31mAssertionError\u001b[0m                            Traceback (most recent call last)",
      "\u001b[1;32m<ipython-input-65-8f77a25fdf3f>\u001b[0m in \u001b[0;36m<module>\u001b[1;34m\u001b[0m\n\u001b[0;32m      2\u001b[0m \u001b[1;33m\u001b[0m\u001b[0m\n\u001b[0;32m      3\u001b[0m \u001b[1;31m#if condition returns False, AssertionError is raised:\u001b[0m\u001b[1;33m\u001b[0m\u001b[1;33m\u001b[0m\u001b[1;33m\u001b[0m\u001b[0m\n\u001b[1;32m----> 4\u001b[1;33m \u001b[1;32massert\u001b[0m \u001b[0mx\u001b[0m \u001b[1;33m==\u001b[0m \u001b[1;34m\"goodbye\"\u001b[0m\u001b[1;33m,\u001b[0m \u001b[1;34m\"bhak x should be 'hello'\"\u001b[0m\u001b[1;33m\u001b[0m\u001b[1;33m\u001b[0m\u001b[0m\n\u001b[0m",
      "\u001b[1;31mAssertionError\u001b[0m: bhak x should be 'hello'"
     ]
    }
   ],
   "source": [
    "x = \"hello\"\n",
    "\n",
    "#if condition returns False, AssertionError is raised:\n",
    "assert x == \"goodbye\", \"bhak x should be 'hello'\""
   ]
  },
  {
   "cell_type": "code",
   "execution_count": 1,
   "id": "original-prescription",
   "metadata": {},
   "outputs": [
    {
     "data": {
      "text/plain": [
       "['/*Test program */',\n",
       " 'int main()',\n",
       " '{ ',\n",
       " '  // variable declaration ',\n",
       " 'int a, b, c;',\n",
       " '/* This is a test',\n",
       " '   multiline  ',\n",
       " '   comment for ',\n",
       " '   testing */',\n",
       " 'a = b + c;',\n",
       " '}']"
      ]
     },
     "execution_count": 1,
     "metadata": {},
     "output_type": "execute_result"
    }
   ],
   "source": [
    "source = [\"/*Test program */\", \"int main()\", \"{ \", \"  // variable declaration \", \"int a, b, c;\", \n",
    "          \"/* This is a test\", \"   multiline  \", \"   comment for \", \"   testing */\", \"a = b + c;\", \"}\"]\n",
    "source"
   ]
  },
  {
   "cell_type": "code",
   "execution_count": 22,
   "id": "expanded-sauce",
   "metadata": {},
   "outputs": [
    {
     "data": {
      "text/plain": [
       "['int main()', '{ ', 'int a, b, c;', 'a = b + c;', '}']"
      ]
     },
     "execution_count": 22,
     "metadata": {},
     "output_type": "execute_result"
    }
   ],
   "source": [
    "oi=[]\n",
    "t=[]\n",
    "o=[]\n",
    "for i in source:\n",
    "    if ('//' in i) or ('/*' in i and '*/' in i):\n",
    "        continue\n",
    "    else:\n",
    "        oi.append(i)\n",
    "for i in oi:\n",
    "    if '/*' in i:\n",
    "        t='/*'\n",
    "        continue\n",
    "    if '*/' in i:\n",
    "        t=[]\n",
    "        continue\n",
    "    if t==[]:\n",
    "        o.append(i)\n",
    "o"
   ]
  },
  {
   "cell_type": "code",
   "execution_count": 23,
   "id": "level-engine",
   "metadata": {},
   "outputs": [
    {
     "data": {
      "text/plain": [
       "[]"
      ]
     },
     "execution_count": 23,
     "metadata": {},
     "output_type": "execute_result"
    }
   ],
   "source": [
    "source = [\"a/*comment\", \"line\", \"more_comment*/b\"]\n",
    "oi=[]\n",
    "t=[]\n",
    "o=[]\n",
    "for i in source:\n",
    "    if ('//' in i) or ('/*' in i and '*/' in i):\n",
    "        continue\n",
    "    else:\n",
    "        oi.append(i)\n",
    "for i in oi:\n",
    "    if '/*' in i:\n",
    "        t='/*'\n",
    "        continue\n",
    "    if '*/' in i:\n",
    "        t=[]\n",
    "        continue\n",
    "    if t==[]:\n",
    "        o.append(i)\n",
    "o"
   ]
  },
  {
   "cell_type": "code",
   "execution_count": 29,
   "id": "entertaining-stuart",
   "metadata": {},
   "outputs": [
    {
     "data": {
      "text/plain": [
       "'blue is sky the'"
      ]
     },
     "execution_count": 29,
     "metadata": {},
     "output_type": "execute_result"
    }
   ],
   "source": [
    "s = \"the sky is blue\"\n",
    "\" \".join(s.split(' ')[::-1])"
   ]
  },
  {
   "cell_type": "code",
   "execution_count": 31,
   "id": "collaborative-motion",
   "metadata": {},
   "outputs": [
    {
     "data": {
      "text/plain": [
       "'  world hello  '"
      ]
     },
     "execution_count": 31,
     "metadata": {},
     "output_type": "execute_result"
    }
   ],
   "source": [
    "s=\"  hello world  \"\n",
    "\" \".join(s.split(' ')[::-1])"
   ]
  },
  {
   "cell_type": "code",
   "execution_count": 35,
   "id": "artificial-picnic",
   "metadata": {},
   "outputs": [
    {
     "data": {
      "text/plain": [
       "'a good example'"
      ]
     },
     "execution_count": 35,
     "metadata": {},
     "output_type": "execute_result"
    }
   ],
   "source": [
    "s=\"  hello world  \"\n",
    "\n",
    "s = \"a good   example\"\n",
    "o=[]\n",
    "for i in s.split(' '):\n",
    "    if len(i)==0:\n",
    "        continue\n",
    "    else:\n",
    "        o.append(i)\n",
    "\" \".join(o)"
   ]
  },
  {
   "cell_type": "code",
   "execution_count": 3,
   "id": "italic-sword",
   "metadata": {},
   "outputs": [
    {
     "data": {
      "text/plain": [
       "[]"
      ]
     },
     "execution_count": 3,
     "metadata": {},
     "output_type": "execute_result"
    }
   ],
   "source": [
    "source = [\"a/*comment\", \"line\", \"more_comment*/b\"]\n",
    "oi=[]\n",
    "t=[]\n",
    "o=[]\n",
    "for i in source:\n",
    "    if ('//' in i):\n",
    "        if i[:2]=='//':\n",
    "            continue\n",
    "        else:\n",
    "            oi.append(i[:i.find('//')])\n",
    "    if ('/*' in i and '*/' in i):\n",
    "        continue\n",
    "    else:\n",
    "        oi.append(i)\n",
    "for i in oi:\n",
    "    if '/*' in i:\n",
    "        t='/*'\n",
    "        continue\n",
    "    if '*/' in i:\n",
    "        t=[]\n",
    "        continue\n",
    "    if t==[]:\n",
    "        o.append(i)\n",
    "o"
   ]
  },
  {
   "cell_type": "code",
   "execution_count": 46,
   "id": "psychological-relief",
   "metadata": {},
   "outputs": [
    {
     "data": {
      "text/plain": [
       "['a', 'b']"
      ]
     },
     "execution_count": 46,
     "metadata": {},
     "output_type": "execute_result"
    }
   ],
   "source": [
    "source = [\"a//comment\", \"//line\", \"more/*comment*/b\",\"/*mment*/\",\"a/*comment\",\"2line\",\"2nd_comment*/2ndb\",\"ab\"]\n",
    "source = [\"/*Test program */\", \"int main()\", \"{ \", \"  // variable declaration \", \"int a, b, c;\", \"/* This is a test\",\n",
    "          \"   multiline  \", \"   comment for \", \"   testing */\", \"a = b + c;\", \"}\"]\n",
    "source = [\"a/*comment\", \"line\", \"more_comment*/b\"]\n",
    "\n",
    "oi=[]\n",
    "t=[]\n",
    "o=[]\n",
    "for i in source:\n",
    "    if ('//' in i):\n",
    "        if i[:2]=='//':\n",
    "            continue\n",
    "        elif i[:i.find('//')].strip():\n",
    "            oi.append(i[:i.find('//')])\n",
    "    elif ('/*' in i and '*/' in i):\n",
    "        sp=i.find('/*')\n",
    "        ep=i.find('*/')\n",
    "        st=i[:sp]+i[ep+2:]\n",
    "        if len(st)>0:\n",
    "            oi.append(i[:sp]+i[ep+2:])\n",
    "    elif '/*' in i and t==[] and '*/' not in i:\n",
    "        sp=i.find('/*')\n",
    "        oi.append(i[:sp])\n",
    "        t='/*'\n",
    "    elif t=='/*' and '*/' not in i:\n",
    "        continue\n",
    "    elif t=='/*' and '*/' in i:\n",
    "        ep=i.find('*/')\n",
    "        st=i[ep+2:]\n",
    "        t=[]\n",
    "        if len(st)>0:\n",
    "            oi.append(st)\n",
    "    else:\n",
    "        oi.append(i)\n",
    "oi"
   ]
  },
  {
   "cell_type": "code",
   "execution_count": 42,
   "id": "simple-undergraduate",
   "metadata": {},
   "outputs": [
    {
     "name": "stdout",
     "output_type": "stream",
     "text": [
      "it's not an empty or blank string\n"
     ]
    }
   ],
   "source": [
    "myString='  2'\n",
    "if myString.strip():\n",
    "    print(\"it's not an empty or blank string\")\n",
    "else:\n",
    "    print(\"it's an empty or blank string\")"
   ]
  },
  {
   "cell_type": "code",
   "execution_count": null,
   "id": "integrated-thompson",
   "metadata": {},
   "outputs": [],
   "source": []
  }
 ],
 "metadata": {
  "kernelspec": {
   "display_name": "Python 3",
   "language": "python",
   "name": "python3"
  },
  "language_info": {
   "codemirror_mode": {
    "name": "ipython",
    "version": 3
   },
   "file_extension": ".py",
   "mimetype": "text/x-python",
   "name": "python",
   "nbconvert_exporter": "python",
   "pygments_lexer": "ipython3",
   "version": "3.9.1"
  }
 },
 "nbformat": 4,
 "nbformat_minor": 5
}
