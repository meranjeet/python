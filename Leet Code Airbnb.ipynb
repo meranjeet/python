{
 "cells": [
  {
   "cell_type": "markdown",
   "metadata": {},
   "source": [
    "# Valid Palindrome"
   ]
  },
  {
   "cell_type": "markdown",
   "metadata": {},
   "source": [
    "Given a string, determine if it is a palindrome, considering only alphanumeric characters and ignoring cases.\n",
    "\n",
    "Note: For the purpose of this problem, we define empty string as valid palindrome.\n",
    "\n",
    "Example 1:\n",
    "\n",
    "Input: \"A man, a plan, a canal: Panama\"\n",
    "Output: true\n",
    "Example 2:\n",
    "\n",
    "Input: \"race a car\"\n",
    "Output: false"
   ]
  },
  {
   "cell_type": "code",
   "execution_count": 4,
   "metadata": {},
   "outputs": [],
   "source": [
    "def isPalindrome(s):\n",
    "    l=[i for i in list(s.lower()) if i.isalnum()]\n",
    "    return l[::-1]==l"
   ]
  },
  {
   "cell_type": "code",
   "execution_count": 5,
   "metadata": {},
   "outputs": [
    {
     "data": {
      "text/plain": [
       "False"
      ]
     },
     "execution_count": 5,
     "metadata": {},
     "output_type": "execute_result"
    }
   ],
   "source": [
    "isPalindrome('A man,')"
   ]
  },
  {
   "cell_type": "code",
   "execution_count": 6,
   "metadata": {},
   "outputs": [
    {
     "data": {
      "text/plain": [
       "True"
      ]
     },
     "execution_count": 6,
     "metadata": {},
     "output_type": "execute_result"
    }
   ],
   "source": [
    "isPalindrome('A man, a plan, a canal: Panama')"
   ]
  },
  {
   "cell_type": "markdown",
   "metadata": {},
   "source": [
    "# Merge Sorted Array\n",
    "Given two sorted integer arrays nums1 and nums2, merge nums2 into nums1 as one sorted array.\n",
    "\n",
    "Note:\n",
    "\n",
    "The number of elements initialized in nums1 and nums2 are m and n respectively.\n",
    "You may assume that nums1 has enough space (size that is greater or equal to m + n) to hold additional elements from nums2.\n",
    "Example:\n",
    "\n",
    "Input:\n",
    "nums1 = [1,2,3,0,0,0], m = 3\n",
    "nums2 = [2,5,6],       n = 3\n",
    "\n",
    "Output: [1,2,2,3,5,6]"
   ]
  },
  {
   "cell_type": "code",
   "execution_count": 7,
   "metadata": {},
   "outputs": [],
   "source": [
    "def merge(nums1,m,nums2,n):\n",
    "        nums1[:]=sorted(nums1[:m]+nums2)"
   ]
  },
  {
   "cell_type": "code",
   "execution_count": 3,
   "metadata": {},
   "outputs": [
    {
     "data": {
      "text/plain": [
       "[1, 2, 2, 3, 5, 6]"
      ]
     },
     "execution_count": 3,
     "metadata": {},
     "output_type": "execute_result"
    }
   ],
   "source": [
    "nums1 = [1,2,3,0,0,0]\n",
    "m = 3 \n",
    "nums2 = [2,5,6] \n",
    "n = 3\n",
    "merge(nums1,m,nums2,n)\n",
    "nums1"
   ]
  },
  {
   "cell_type": "code",
   "execution_count": 6,
   "metadata": {},
   "outputs": [
    {
     "data": {
      "text/plain": [
       "[1, 2, 2, 3, 5]"
      ]
     },
     "execution_count": 6,
     "metadata": {},
     "output_type": "execute_result"
    }
   ],
   "source": [
    "nums1 = [1,2,3,0,0,0]\n",
    "m = 3 \n",
    "nums2 = [2,5] \n",
    "n = 3\n",
    "merge(nums1,m,nums2,n)\n",
    "nums1"
   ]
  },
  {
   "cell_type": "markdown",
   "metadata": {},
   "source": [
    "# Add Binary\n",
    "\n",
    "Given two binary strings, return their sum (also a binary string).\n",
    "\n",
    "The input strings are both non-empty and contains only characters 1 or 0.\n",
    "\n",
    "Example 1:\n",
    "\n",
    "Input: a = \"11\", b = \"1\"\n",
    "Output: \"100\"\n",
    "Example 2:\n",
    "\n",
    "Input: a = \"1010\", b = \"1011\"\n",
    "Output: \"10101\""
   ]
  },
  {
   "cell_type": "code",
   "execution_count": 9,
   "metadata": {},
   "outputs": [],
   "source": [
    "    def addBinary(a, b):\n",
    "        \"\"\"\n",
    "        :type a: str\n",
    "        :type b: str\n",
    "        :rtype: str\n",
    "        \"\"\"\n",
    "        return bin(int(a,2)+int(b,2))[2:]"
   ]
  },
  {
   "cell_type": "code",
   "execution_count": 10,
   "metadata": {},
   "outputs": [
    {
     "data": {
      "text/plain": [
       "'100'"
      ]
     },
     "execution_count": 10,
     "metadata": {},
     "output_type": "execute_result"
    }
   ],
   "source": [
    "a = \"11\"\n",
    "b = \"1\" \n",
    "addBinary(a, b)"
   ]
  },
  {
   "cell_type": "code",
   "execution_count": 11,
   "metadata": {},
   "outputs": [
    {
     "data": {
      "text/plain": [
       "'10101'"
      ]
     },
     "execution_count": 11,
     "metadata": {},
     "output_type": "execute_result"
    }
   ],
   "source": [
    "a = \"1010\"\n",
    "b = \"1011\" \n",
    "addBinary(a, b)"
   ]
  },
  {
   "cell_type": "markdown",
   "metadata": {},
   "source": [
    "## Add Strings\n",
    "\n",
    "Given two non-negative integers num1 and num2 represented as string, return the sum of num1 and num2.\n",
    "\n",
    "Note:\n",
    "\n",
    "The length of both num1 and num2 is < 5100.\n",
    "Both num1 and num2 contains only digits 0-9.\n",
    "Both num1 and num2 does not contain any leading zero.\n",
    "You must not use any built-in BigInteger library or convert the inputs to integer directly."
   ]
  },
  {
   "cell_type": "code",
   "execution_count": 1,
   "metadata": {},
   "outputs": [],
   "source": [
    "def addStrings(num1,num2):\n",
    "        o=[]\n",
    "        sm=num1 if len(num1)<=len(num2) else num2\n",
    "        ln=num1 if len(num1)>len(num2) else num2\n",
    "        sm=sm.zfill(len(ln))\n",
    "        if len(num1)==len(num2):\n",
    "            sm='0'+sm\n",
    "            ln='0'+ln\n",
    "        else:\n",
    "            sm='0'+sm.zfill(len(ln))\n",
    "            ln='0'+ln\n",
    "        carry=0\n",
    "        for i in range(len(sm)-1,-1,-1):\n",
    "            o.append(str((int(sm[i])+int(ln[i])+carry)%10))\n",
    "            if (int(sm[i])+int(ln[i])+carry)>=10:\n",
    "                carry=1\n",
    "            else:\n",
    "                carry=0\n",
    "        o.reverse()\n",
    "        if ''.join(o)[0]=='0':\n",
    "            return ''.join(o)[1:]\n",
    "        else:\n",
    "            return ''.join(o)"
   ]
  },
  {
   "cell_type": "code",
   "execution_count": 3,
   "metadata": {},
   "outputs": [
    {
     "data": {
      "text/plain": [
       "'0'"
      ]
     },
     "execution_count": 3,
     "metadata": {},
     "output_type": "execute_result"
    }
   ],
   "source": [
    "addStrings('0','0')"
   ]
  },
  {
   "cell_type": "code",
   "execution_count": 4,
   "metadata": {},
   "outputs": [
    {
     "data": {
      "text/plain": [
       "'9'"
      ]
     },
     "execution_count": 4,
     "metadata": {},
     "output_type": "execute_result"
    }
   ],
   "source": [
    "addStrings('9','0')"
   ]
  },
  {
   "cell_type": "code",
   "execution_count": 5,
   "metadata": {},
   "outputs": [
    {
     "data": {
      "text/plain": [
       "'18'"
      ]
     },
     "execution_count": 5,
     "metadata": {},
     "output_type": "execute_result"
    }
   ],
   "source": [
    "addStrings('9','9')"
   ]
  },
  {
   "cell_type": "code",
   "execution_count": 6,
   "metadata": {},
   "outputs": [
    {
     "data": {
      "text/plain": [
       "'1163'"
      ]
     },
     "execution_count": 6,
     "metadata": {},
     "output_type": "execute_result"
    }
   ],
   "source": [
    "addStrings('1023','140')"
   ]
  },
  {
   "cell_type": "code",
   "execution_count": 11,
   "metadata": {},
   "outputs": [],
   "source": [
    "def valid_ip(ip):\n",
    "    try:\n",
    "        a=[i for i in ip.split('.') if int(i)>=0 and int(i)<=128]\n",
    "    except:\n",
    "        return False\n",
    "    return ip.count('.')==3 and len(a)==4  "
   ]
  },
  {
   "cell_type": "code",
   "execution_count": 8,
   "metadata": {},
   "outputs": [],
   "source": [
    "def valid_ip1(ip):\n",
    "    a=[]\n",
    "    for i in ip.split('.'):\n",
    "        if i.isnumneric():\n",
    "            if int(i)>=0 and int(i)<=128:\n",
    "                a.appned(i)\n",
    "    #a=[i for i in ip.split('.') if int(i)>=0 and int(i)<=128]\n",
    "    return ip.count('.')==3 and len(a)==4"
   ]
  },
  {
   "cell_type": "code",
   "execution_count": 12,
   "metadata": {},
   "outputs": [
    {
     "data": {
      "text/plain": [
       "True"
      ]
     },
     "execution_count": 12,
     "metadata": {},
     "output_type": "execute_result"
    }
   ],
   "source": [
    "valid_ip('120.2.3.40')"
   ]
  },
  {
   "cell_type": "code",
   "execution_count": 13,
   "metadata": {},
   "outputs": [
    {
     "data": {
      "text/plain": [
       "False"
      ]
     },
     "execution_count": 13,
     "metadata": {},
     "output_type": "execute_result"
    }
   ],
   "source": [
    "valid_ip('2.a.3.40')"
   ]
  },
  {
   "cell_type": "code",
   "execution_count": 35,
   "metadata": {},
   "outputs": [],
   "source": [
    "s='Please enter a sentence'\n",
    "def avg_sen(s):\n",
    "    if len(s.split())==0:\n",
    "        return None\n",
    "    else:\n",
    "        return sum([len(i) for i in s.split()])/len(s.split())\n"
   ]
  },
  {
   "cell_type": "code",
   "execution_count": 36,
   "metadata": {},
   "outputs": [
    {
     "data": {
      "text/plain": [
       "5.0"
      ]
     },
     "execution_count": 36,
     "metadata": {},
     "output_type": "execute_result"
    }
   ],
   "source": [
    "avg_sen('Please enter a sentence')"
   ]
  },
  {
   "cell_type": "code",
   "execution_count": null,
   "metadata": {},
   "outputs": [],
   "source": [
    "avg_sen('    ')"
   ]
  },
  {
   "cell_type": "code",
   "execution_count": 13,
   "metadata": {},
   "outputs": [],
   "source": [
    "def flatten(li):\n",
    "    return sum(([x] if not isinstance(x, list) else flatten(x)\n",
    "                for x in li), [])"
   ]
  },
  {
   "cell_type": "code",
   "execution_count": 14,
   "metadata": {},
   "outputs": [
    {
     "data": {
      "text/plain": [
       "['1', '2', '2', '3', '2', '9', '4']"
      ]
     },
     "execution_count": 14,
     "metadata": {},
     "output_type": "execute_result"
    }
   ],
   "source": [
    "flatten(['1','2',['2','3',['2','9']],'4'])\n"
   ]
  },
  {
   "cell_type": "code",
   "execution_count": 64,
   "metadata": {},
   "outputs": [],
   "source": [
    "def frnd(items):\n",
    "    d={}\n",
    "    for i in items:\n",
    "        if i[0] not in d.keys():\n",
    "            d[i[0]]=1\n",
    "        else:\n",
    "            d[i[0]]+=1\n",
    "    return d"
   ]
  },
  {
   "cell_type": "code",
   "execution_count": 66,
   "metadata": {},
   "outputs": [],
   "source": [
    "stats=frnd([['A','B'],['A','C'],['B','D'],['B','C'],['R','M'], ['S'],['P'], ['A']])"
   ]
  },
  {
   "cell_type": "code",
   "execution_count": 69,
   "metadata": {},
   "outputs": [
    {
     "data": {
      "text/plain": [
       "'A'"
      ]
     },
     "execution_count": 69,
     "metadata": {},
     "output_type": "execute_result"
    }
   ],
   "source": [
    "max(stats, key=stats.get)"
   ]
  },
  {
   "cell_type": "code",
   "execution_count": 72,
   "metadata": {},
   "outputs": [],
   "source": [
    "key, value = max(stats.items(), key=lambda x:x[1])"
   ]
  },
  {
   "cell_type": "code",
   "execution_count": 75,
   "metadata": {},
   "outputs": [
    {
     "data": {
      "text/plain": [
       "(3, 'A')"
      ]
     },
     "execution_count": 75,
     "metadata": {},
     "output_type": "execute_result"
    }
   ],
   "source": [
    "max(zip(stats.values(), stats.keys()))"
   ]
  },
  {
   "cell_type": "code",
   "execution_count": 89,
   "metadata": {},
   "outputs": [],
   "source": [
    "def median(l):\n",
    "    sorted(l)\n",
    "    if len(l)%2==0:\n",
    "        return l[(len(l)-1)//2]\n",
    "    else:\n",
    "        return (l[(len(l)-1)//2]+l[((len(l)-1)//2)+1])//2.0\n",
    "        "
   ]
  },
  {
   "cell_type": "code",
   "execution_count": 90,
   "metadata": {},
   "outputs": [
    {
     "data": {
      "text/plain": [
       "4.0"
      ]
     },
     "execution_count": 90,
     "metadata": {},
     "output_type": "execute_result"
    }
   ],
   "source": [
    "median([1,1,3,4,5,1.2,5])"
   ]
  },
  {
   "cell_type": "code",
   "execution_count": 91,
   "metadata": {},
   "outputs": [],
   "source": [
    "def hcf(x,y):\n",
    "    while y!=0:\n",
    "        x,y=y,x%y\n",
    "    return x"
   ]
  },
  {
   "cell_type": "code",
   "execution_count": 92,
   "metadata": {},
   "outputs": [
    {
     "data": {
      "text/plain": [
       "2"
      ]
     },
     "execution_count": 92,
     "metadata": {},
     "output_type": "execute_result"
    }
   ],
   "source": [
    "hcf(2,10)"
   ]
  },
  {
   "cell_type": "code",
   "execution_count": 93,
   "metadata": {},
   "outputs": [
    {
     "name": "stdout",
     "output_type": "stream",
     "text": [
      "1\n",
      "4\n"
     ]
    }
   ],
   "source": [
    "l=[1,2,4]\n",
    "n=5\n",
    "for i in l:\n",
    "    if 5-i in l:\n",
    "        print(i)"
   ]
  },
  {
   "cell_type": "code",
   "execution_count": 94,
   "metadata": {},
   "outputs": [],
   "source": [
    "def countwords(l):\n",
    "    d={}\n",
    "    for i in l:\n",
    "        if i not in d.keys():\n",
    "            d[i]=l.count(i)\n",
    "    return d\n"
   ]
  },
  {
   "cell_type": "code",
   "execution_count": 95,
   "metadata": {},
   "outputs": [
    {
     "data": {
      "text/plain": [
       "{'apple': 3, 'egg': 2, 'banana': 1}"
      ]
     },
     "execution_count": 95,
     "metadata": {},
     "output_type": "execute_result"
    }
   ],
   "source": [
    "countwords(['apple','egg','apple','banana','egg','apple'])"
   ]
  },
  {
   "cell_type": "code",
   "execution_count": 96,
   "metadata": {},
   "outputs": [],
   "source": [
    "def uwords(l):\n",
    "    c=0\n",
    "    for i in l:\n",
    "        if l.count(i)==1:\n",
    "            c+=1\n",
    "    return c"
   ]
  },
  {
   "cell_type": "code",
   "execution_count": 99,
   "metadata": {},
   "outputs": [
    {
     "data": {
      "text/plain": [
       "3"
      ]
     },
     "execution_count": 99,
     "metadata": {},
     "output_type": "execute_result"
    }
   ],
   "source": [
    "uwords(['a','b','c'])"
   ]
  },
  {
   "cell_type": "code",
   "execution_count": 100,
   "metadata": {},
   "outputs": [
    {
     "data": {
      "text/plain": [
       "[2, 3, 5, 7]"
      ]
     },
     "execution_count": 100,
     "metadata": {},
     "output_type": "execute_result"
    }
   ],
   "source": [
    "a=2\n",
    "b=10\n",
    "o=[]\n",
    "for i in range(2,10+1):\n",
    "    for j in range(2,i):\n",
    "        if i%j==0:\n",
    "            break\n",
    "    else:\n",
    "            o.append(i)\n",
    "o"
   ]
  },
  {
   "cell_type": "code",
   "execution_count": 1,
   "metadata": {},
   "outputs": [],
   "source": [
    "def ne(l):\n",
    "    if l==[]:\n",
    "        return []\n",
    "    else:\n",
    "        t=l[0]\n",
    "        o=[]\n",
    "    for i in l:\n",
    "        if i is None:\n",
    "            o.append(t)\n",
    "        else:\n",
    "            t=i\n",
    "            o.append(i)\n",
    "    return o"
   ]
  },
  {
   "cell_type": "code",
   "execution_count": 2,
   "metadata": {},
   "outputs": [
    {
     "data": {
      "text/plain": [
       "[None, 8, 8]"
      ]
     },
     "execution_count": 2,
     "metadata": {},
     "output_type": "execute_result"
    }
   ],
   "source": [
    "ne([None,8,None])"
   ]
  },
  {
   "cell_type": "code",
   "execution_count": 3,
   "metadata": {},
   "outputs": [
    {
     "data": {
      "text/plain": [
       "[None]"
      ]
     },
     "execution_count": 3,
     "metadata": {},
     "output_type": "execute_result"
    }
   ],
   "source": [
    "ne([None])"
   ]
  },
  {
   "cell_type": "code",
   "execution_count": 4,
   "metadata": {},
   "outputs": [
    {
     "data": {
      "text/plain": [
       "[]"
      ]
     },
     "execution_count": 4,
     "metadata": {},
     "output_type": "execute_result"
    }
   ],
   "source": [
    "ne([])"
   ]
  },
  {
   "cell_type": "code",
   "execution_count": 5,
   "metadata": {},
   "outputs": [
    {
     "data": {
      "text/plain": [
       "[None, 2, 3, 3, 3, 4, 4]"
      ]
     },
     "execution_count": 5,
     "metadata": {},
     "output_type": "execute_result"
    }
   ],
   "source": [
    "ne([None,2,3,None,None,4,None])"
   ]
  },
  {
   "cell_type": "markdown",
   "metadata": {},
   "source": [
    "## Intersection of Two Arrays II"
   ]
  },
  {
   "cell_type": "markdown",
   "metadata": {},
   "source": [
    "Given two arrays, write a function to compute their intersection.\n",
    "\n",
    "Example 1:\n",
    "\n",
    "Input: nums1 = [1,2,2,1], nums2 = [2,2]\n",
    "Output: [2,2]\n",
    "Example 2:\n",
    "\n",
    "Input: nums1 = [4,9,5], nums2 = [9,4,9,8,4]\n",
    "Output: [4,9]"
   ]
  },
  {
   "cell_type": "code",
   "execution_count": 6,
   "metadata": {},
   "outputs": [],
   "source": [
    "def intersect(nums1, nums2):\n",
    "\n",
    "        nums1, nums2 = sorted(nums1), sorted(nums2)\n",
    "        pt1 = pt2 = 0\n",
    "        res = []\n",
    "\n",
    "        while True:\n",
    "            try:\n",
    "                if nums1[pt1] > nums2[pt2]:\n",
    "                    pt2 += 1\n",
    "                elif nums1[pt1] < nums2[pt2]:\n",
    "                    pt1 += 1\n",
    "                else:\n",
    "                    res.append(nums1[pt1])\n",
    "                    pt1 += 1\n",
    "                    pt2 += 1\n",
    "            except IndexError:\n",
    "                break\n",
    "\n",
    "        return res"
   ]
  },
  {
   "cell_type": "code",
   "execution_count": 7,
   "metadata": {
    "scrolled": true
   },
   "outputs": [
    {
     "data": {
      "text/plain": [
       "[1, 2, 4]"
      ]
     },
     "execution_count": 7,
     "metadata": {},
     "output_type": "execute_result"
    }
   ],
   "source": [
    "nums1 = [1,2,2,1,4]\n",
    "nums2 = [4,2,1]\n",
    "intersect(nums1, nums2)"
   ]
  },
  {
   "cell_type": "markdown",
   "metadata": {},
   "source": [
    "## Monotonic Array"
   ]
  },
  {
   "cell_type": "markdown",
   "metadata": {},
   "source": [
    "An array is monotonic if it is either monotone increasing or monotone decreasing.\n",
    "\n",
    "An array A is monotone increasing if for all i <= j, A[i] <= A[j].  An array A is monotone decreasing if for all i <= j, A[i] >= A[j].\n",
    "\n",
    "Return true if and only if the given array A is monotonic.\n",
    "\n",
    " \n",
    "\n",
    "Example 1:\n",
    "\n",
    "Input: [1,2,2,3]\n",
    "Output: true\n",
    "Example 2:\n",
    "\n",
    "Input: [6,5,4,4]\n",
    "Output: true\n",
    "Example 3:\n",
    "\n",
    "Input: [1,3,2]\n",
    "Output: false\n",
    "Example 4:\n",
    "\n",
    "Input: [1,2,4,5]\n",
    "Output: true\n",
    "Example 5:\n",
    "\n",
    "Input: [1,1,1]\n",
    "Output: true"
   ]
  },
  {
   "cell_type": "code",
   "execution_count": 9,
   "metadata": {},
   "outputs": [],
   "source": [
    "def isMonotonic(A):\n",
    "        return A==sorted(A) or A==sorted(A,reverse=True)"
   ]
  },
  {
   "cell_type": "code",
   "execution_count": 11,
   "metadata": {},
   "outputs": [
    {
     "data": {
      "text/plain": [
       "True"
      ]
     },
     "execution_count": 11,
     "metadata": {},
     "output_type": "execute_result"
    }
   ],
   "source": [
    "isMonotonic([1,2,2,3])"
   ]
  },
  {
   "cell_type": "code",
   "execution_count": 12,
   "metadata": {},
   "outputs": [
    {
     "data": {
      "text/plain": [
       "True"
      ]
     },
     "execution_count": 12,
     "metadata": {},
     "output_type": "execute_result"
    }
   ],
   "source": [
    "isMonotonic([6,5,4,4])"
   ]
  },
  {
   "cell_type": "code",
   "execution_count": 13,
   "metadata": {},
   "outputs": [
    {
     "data": {
      "text/plain": [
       "False"
      ]
     },
     "execution_count": 13,
     "metadata": {},
     "output_type": "execute_result"
    }
   ],
   "source": [
    "isMonotonic([5,6,3])"
   ]
  },
  {
   "cell_type": "markdown",
   "metadata": {},
   "source": [
    "## Intersection of Two Arrays"
   ]
  },
  {
   "cell_type": "markdown",
   "metadata": {},
   "source": [
    "Given two arrays, write a function to compute their intersection.\n",
    "\n",
    "Example 1:\n",
    "\n",
    "Input: nums1 = [1,2,2,1], nums2 = [2,2]\n",
    "Output: [2]\n",
    "Example 2:\n",
    "\n",
    "Input: nums1 = [4,9,5], nums2 = [9,4,9,8,4]\n",
    "Output: [9,4]"
   ]
  },
  {
   "cell_type": "code",
   "execution_count": 15,
   "metadata": {},
   "outputs": [],
   "source": [
    "def intersection(nums1,nums2):\n",
    "    s1=nums2 if len(nums1)>len(nums2) else nums1\n",
    "    ll=nums1 if len(nums1)>len(nums2) else nums2\n",
    "    return list(set([i for i in s1 if i in ll])) "
   ]
  },
  {
   "cell_type": "code",
   "execution_count": 16,
   "metadata": {},
   "outputs": [
    {
     "data": {
      "text/plain": [
       "[2]"
      ]
     },
     "execution_count": 16,
     "metadata": {},
     "output_type": "execute_result"
    }
   ],
   "source": [
    "intersection([1,2,2,1],[2,2])"
   ]
  },
  {
   "cell_type": "code",
   "execution_count": 17,
   "metadata": {},
   "outputs": [
    {
     "data": {
      "text/plain": [
       "[9, 4]"
      ]
     },
     "execution_count": 17,
     "metadata": {},
     "output_type": "execute_result"
    }
   ],
   "source": [
    "intersection([4,9,5], [9,4,9,8,4])"
   ]
  },
  {
   "cell_type": "markdown",
   "metadata": {},
   "source": [
    "##  Single-Row Keyboard"
   ]
  },
  {
   "cell_type": "markdown",
   "metadata": {},
   "source": [
    "There is a special keyboard with all keys in a single row.\n",
    "\n",
    "Given a string keyboard of length 26 indicating the layout of the keyboard (indexed from 0 to 25), initially your finger is at index 0. To type a character, you have to move your finger to the index of the desired character. The time taken to move your finger from index i to index j is |i - j|.\n",
    "\n",
    "You want to type a string word. Write a function to calculate how much time it takes to type it with one finger.\n",
    "\n",
    " \n",
    "\n",
    "Example 1:\n",
    "\n",
    "Input: keyboard = \"abcdefghijklmnopqrstuvwxyz\", word = \"cba\"\n",
    "Output: 4\n",
    "Explanation: The index moves from 0 to 2 to write 'c' then to 1 to write 'b' then to 0 again to write 'a'.\n",
    "Total time = 2 + 1 + 1 = 4. \n",
    "Example 2:\n",
    "\n",
    "Input: keyboard = \"pqrstuvwxyzabcdefghijklmno\", word = \"leetcode\"\n",
    "Output: 73"
   ]
  },
  {
   "cell_type": "code",
   "execution_count": 18,
   "metadata": {},
   "outputs": [],
   "source": [
    "def calculateTime(keyboard,word):\n",
    "    l=0\n",
    "    p=0\n",
    "    for i in word:\n",
    "        l=l+abs(keyboard.index(i)-p)\n",
    "        p=keyboard.index(i)\n",
    "    return l"
   ]
  },
  {
   "cell_type": "code",
   "execution_count": 19,
   "metadata": {},
   "outputs": [
    {
     "data": {
      "text/plain": [
       "4"
      ]
     },
     "execution_count": 19,
     "metadata": {},
     "output_type": "execute_result"
    }
   ],
   "source": [
    "keyboard = \"abcdefghijklmnopqrstuvwxyz\"\n",
    "word = \"cba\"\n",
    "calculateTime(keyboard,word)"
   ]
  },
  {
   "cell_type": "code",
   "execution_count": 20,
   "metadata": {},
   "outputs": [
    {
     "data": {
      "text/plain": [
       "73"
      ]
     },
     "execution_count": 20,
     "metadata": {},
     "output_type": "execute_result"
    }
   ],
   "source": [
    "keyboard = \"pqrstuvwxyzabcdefghijklmno\"\n",
    "word = \"leetcode\"\n",
    "calculateTime(keyboard,word)"
   ]
  },
  {
   "cell_type": "markdown",
   "metadata": {},
   "source": [
    "## Relative Sort Array"
   ]
  },
  {
   "cell_type": "markdown",
   "metadata": {},
   "source": [
    "Given two arrays arr1 and arr2, the elements of arr2 are distinct, and all elements in arr2 are also in arr1.\n",
    "\n",
    "Sort the elements of arr1 such that the relative ordering of items in arr1 are the same as in arr2.  Elements that don't appear in arr2 should be placed at the end of arr1 in ascending order.\n",
    "\n",
    " \n",
    "\n",
    "Example 1:\n",
    "\n",
    "Input: arr1 = [2,3,1,3,2,4,6,7,9,2,19], arr2 = [2,1,4,3,9,6]\n",
    "Output: [2,2,2,1,4,3,3,9,6,7,19]"
   ]
  },
  {
   "cell_type": "code",
   "execution_count": 1,
   "metadata": {},
   "outputs": [],
   "source": [
    "def relativeSortArray(arr1,arr2):\n",
    "        o=[]\n",
    "        for i in arr2:\n",
    "            o=o+[i]*arr1.count(i)\n",
    "        arr1.sort()\n",
    "        for i in arr1:\n",
    "            if i not in arr2:\n",
    "                o.append(i)\n",
    "        return o"
   ]
  },
  {
   "cell_type": "code",
   "execution_count": 2,
   "metadata": {},
   "outputs": [
    {
     "data": {
      "text/plain": [
       "[2, 2, 2, 1, 4, 3, 3, 9, 6, 7, 19]"
      ]
     },
     "execution_count": 2,
     "metadata": {},
     "output_type": "execute_result"
    }
   ],
   "source": [
    "arr1 = [2,3,1,3,2,4,6,7,9,2,19]\n",
    "arr2 = [2,1,4,3,9,6]\n",
    "relativeSortArray(arr1,arr2)"
   ]
  },
  {
   "cell_type": "code",
   "execution_count": 3,
   "metadata": {},
   "outputs": [
    {
     "data": {
      "text/plain": [
       "[22, 28, 8, 6, 17, 44]"
      ]
     },
     "execution_count": 3,
     "metadata": {},
     "output_type": "execute_result"
    }
   ],
   "source": [
    "arr1=[28,6,22,8,44,17]\n",
    "arr2=[22,28,8,6]\n",
    "relativeSortArray(arr1,arr2)"
   ]
  },
  {
   "cell_type": "code",
   "execution_count": 4,
   "metadata": {},
   "outputs": [],
   "source": [
    "def flatten_json(y):\n",
    "    out = {}\n",
    "\n",
    "    def flatten(x, name=''):\n",
    "        if type(x) is dict:\n",
    "            for a in x:\n",
    "                flatten(x[a], name + a + '_')\n",
    "        elif type(x) is list:\n",
    "            i = 0\n",
    "            for a in x:\n",
    "                flatten(a, name + str(i) + '_')\n",
    "                i += 1\n",
    "        else:\n",
    "            out[name[:-1]] = x\n",
    "\n",
    "    flatten(y)\n",
    "    return out"
   ]
  },
  {
   "cell_type": "code",
   "execution_count": 5,
   "metadata": {},
   "outputs": [
    {
     "name": "stdout",
     "output_type": "stream",
     "text": [
      "**********\n",
      "*********\n",
      "********\n",
      "*******\n",
      "******\n",
      "*****\n",
      "****\n",
      "***\n",
      "**\n",
      "*\n",
      "\n",
      "*\n",
      "**\n",
      "***\n",
      "****\n",
      "*****\n",
      "******\n",
      "*******\n",
      "********\n",
      "*********\n"
     ]
    }
   ],
   "source": [
    "for i in range(10):\n",
    "    k=10-i\n",
    "    print('*'*k,flush=True)\n",
    "for j in range(10):\n",
    "    print('*'*j)"
   ]
  },
  {
   "cell_type": "code",
   "execution_count": 7,
   "metadata": {},
   "outputs": [],
   "source": [
    "def fcount(f):\n",
    "    import pandas as pd\n",
    "    import datetime \n",
    "    df=pd.read_csv(f,header=None,names=['Date','Nums','Name'])\n",
    "    df['Month Year'] = pd.to_datetime(df['Date']).dt.to_period('M')\n",
    "    return df.groupby('Month Year')['Name'].nunique()"
   ]
  },
  {
   "cell_type": "code",
   "execution_count": 8,
   "metadata": {},
   "outputs": [
    {
     "data": {
      "text/plain": [
       "Month Year\n",
       "2019-01    2\n",
       "2019-02    1\n",
       "Freq: M, Name: Name, dtype: int64"
      ]
     },
     "execution_count": 8,
     "metadata": {},
     "output_type": "execute_result"
    }
   ],
   "source": [
    "fcount('test.csv')"
   ]
  },
  {
   "cell_type": "code",
   "execution_count": 1,
   "metadata": {},
   "outputs": [],
   "source": [
    "def uni_cnt(f):\n",
    "    import csv\n",
    "    d={}\n",
    "    ls=[]\n",
    "    ld=[]\n",
    "    with open(f,'r',encoding='utf-8-sig') as f:\n",
    "        csv_read=csv.reader(f, delimiter=',')\n",
    "        for i in csv_read:\n",
    "            l=str(i[0].split('/')[2]+'-'+i[0].split('/')[0])+'-'+i[2]\n",
    "            ls.append(l)\n",
    "    for i in ls:\n",
    "        if i not in ld:\n",
    "            ld.append(i)\n",
    "    for i in ld:\n",
    "        k=i[:4]\n",
    "        if k in d.keys():\n",
    "            d[k]=d[k]+1\n",
    "        else:\n",
    "            d[k]=1\n",
    "    return d"
   ]
  },
  {
   "cell_type": "code",
   "execution_count": 2,
   "metadata": {},
   "outputs": [
    {
     "data": {
      "text/plain": [
       "{'19-1': 2, '19-2': 1}"
      ]
     },
     "execution_count": 2,
     "metadata": {},
     "output_type": "execute_result"
    }
   ],
   "source": [
    "uni_cnt('test.csv')"
   ]
  },
  {
   "cell_type": "code",
   "execution_count": 3,
   "metadata": {},
   "outputs": [
    {
     "data": {
      "text/plain": [
       "{'19-2': 1, '19-1': 2}"
      ]
     },
     "execution_count": 3,
     "metadata": {},
     "output_type": "execute_result"
    }
   ],
   "source": [
    "import csv\n",
    "d={}\n",
    "ls=[]\n",
    "ld=[]\n",
    "with open('test.csv','r',encoding='utf-8-sig') as f:\n",
    "    csv_read=csv.reader(f, delimiter=',')\n",
    "    for i in csv_read:\n",
    "        l=str(i[0].split('/')[2]+'-'+i[0].split('/')[0])+'-'+i[2]\n",
    "        ls.append(l)\n",
    "for i in set(ls):\n",
    "    k=i[:4]\n",
    "    if k in d.keys():\n",
    "        d[k]=d[k]+1\n",
    "    else:\n",
    "        d[k]=1\n",
    "d"
   ]
  },
  {
   "cell_type": "code",
   "execution_count": 4,
   "metadata": {},
   "outputs": [
    {
     "name": "stdout",
     "output_type": "stream",
     "text": [
      "*********\n",
      "********\n",
      "*******\n",
      "******\n",
      "*****\n",
      "****\n",
      "***\n",
      "**\n",
      "*\n",
      "*\n",
      "**\n",
      "***\n",
      "****\n",
      "*****\n",
      "******\n",
      "*******\n",
      "********\n",
      "*********\n"
     ]
    }
   ],
   "source": [
    "for i in range(10):\n",
    "    k=10-i\n",
    "    if k==10:\n",
    "        continue\n",
    "    else:\n",
    "        print('*'*k)\n",
    "for j in range(10):\n",
    "    if j==0:\n",
    "        continue\n",
    "    else:\n",
    "        print('*'*j)"
   ]
  },
  {
   "cell_type": "code",
   "execution_count": 5,
   "metadata": {},
   "outputs": [
    {
     "data": {
      "text/plain": [
       "'e'"
      ]
     },
     "execution_count": 5,
     "metadata": {},
     "output_type": "execute_result"
    }
   ],
   "source": [
    "n='Ranjeet'\n",
    "d={}\n",
    "for i in n:\n",
    "    d[i]=n.count(i)\n",
    "max(d,key=d.get)"
   ]
  },
  {
   "cell_type": "code",
   "execution_count": 6,
   "metadata": {},
   "outputs": [
    {
     "data": {
      "text/plain": [
       "2659"
      ]
     },
     "execution_count": 6,
     "metadata": {},
     "output_type": "execute_result"
    }
   ],
   "source": [
    "import pandas as pd\n",
    "from pandas.io.json import json_normalize\n",
    "url = 'https://gbfs.bluebikes.com/gbfs/en/station_status.json'\n",
    "df = pd.read_json(url, orient='columns')\n",
    "d=pd.DataFrame(df['data'][0])\n",
    "d['num_bikes_available'].sum()"
   ]
  },
  {
   "cell_type": "code",
   "execution_count": 7,
   "metadata": {},
   "outputs": [
    {
     "data": {
      "text/html": [
       "<div>\n",
       "<style scoped>\n",
       "    .dataframe tbody tr th:only-of-type {\n",
       "        vertical-align: middle;\n",
       "    }\n",
       "\n",
       "    .dataframe tbody tr th {\n",
       "        vertical-align: top;\n",
       "    }\n",
       "\n",
       "    .dataframe thead th {\n",
       "        text-align: right;\n",
       "    }\n",
       "</style>\n",
       "<table border=\"1\" class=\"dataframe\">\n",
       "  <thead>\n",
       "    <tr style=\"text-align: right;\">\n",
       "      <th></th>\n",
       "      <th>season</th>\n",
       "      <th>orchestra</th>\n",
       "      <th>concerts</th>\n",
       "      <th>programID</th>\n",
       "      <th>works</th>\n",
       "      <th>id</th>\n",
       "    </tr>\n",
       "  </thead>\n",
       "  <tbody>\n",
       "    <tr>\n",
       "      <td>0</td>\n",
       "      <td>1842-43</td>\n",
       "      <td>New York Philharmonic</td>\n",
       "      <td>[{'Date': '1842-12-07T05:00:00Z', 'eventType':...</td>\n",
       "      <td>3853</td>\n",
       "      <td>[{'workTitle': 'SYMPHONY NO. 5 IN C MINOR, OP....</td>\n",
       "      <td>38e072a7-8fc9-4f9a-8eac-3957905c0002</td>\n",
       "    </tr>\n",
       "    <tr>\n",
       "      <td>1</td>\n",
       "      <td>1842-43</td>\n",
       "      <td>New York Philharmonic</td>\n",
       "      <td>[{'Date': '1843-02-18T05:00:00Z', 'eventType':...</td>\n",
       "      <td>5178</td>\n",
       "      <td>[{'workTitle': 'SYMPHONY NO. 3 IN E FLAT MAJOR...</td>\n",
       "      <td>c7b2b95c-5e0b-431c-a340-5b37fc860b34</td>\n",
       "    </tr>\n",
       "    <tr>\n",
       "      <td>2</td>\n",
       "      <td>1842-43</td>\n",
       "      <td>Musicians from the New York Philharmonic</td>\n",
       "      <td>[{'Date': '1843-04-07T05:00:00Z', 'eventType':...</td>\n",
       "      <td>10785</td>\n",
       "      <td>[{'workTitle': 'EGMONT, OP.84', 'composerName'...</td>\n",
       "      <td>894e1a52-1ae5-4fa7-aec0-b99997555a37</td>\n",
       "    </tr>\n",
       "  </tbody>\n",
       "</table>\n",
       "</div>"
      ],
      "text/plain": [
       "    season                                 orchestra  \\\n",
       "0  1842-43                     New York Philharmonic   \n",
       "1  1842-43                     New York Philharmonic   \n",
       "2  1842-43  Musicians from the New York Philharmonic   \n",
       "\n",
       "                                            concerts programID  \\\n",
       "0  [{'Date': '1842-12-07T05:00:00Z', 'eventType':...      3853   \n",
       "1  [{'Date': '1843-02-18T05:00:00Z', 'eventType':...      5178   \n",
       "2  [{'Date': '1843-04-07T05:00:00Z', 'eventType':...     10785   \n",
       "\n",
       "                                               works  \\\n",
       "0  [{'workTitle': 'SYMPHONY NO. 5 IN C MINOR, OP....   \n",
       "1  [{'workTitle': 'SYMPHONY NO. 3 IN E FLAT MAJOR...   \n",
       "2  [{'workTitle': 'EGMONT, OP.84', 'composerName'...   \n",
       "\n",
       "                                     id  \n",
       "0  38e072a7-8fc9-4f9a-8eac-3957905c0002  \n",
       "1  c7b2b95c-5e0b-431c-a340-5b37fc860b34  \n",
       "2  894e1a52-1ae5-4fa7-aec0-b99997555a37  "
      ]
     },
     "execution_count": 7,
     "metadata": {},
     "output_type": "execute_result"
    }
   ],
   "source": [
    "import pandas as pd \n",
    "data = pd.read_json('https://raw.githubusercontent.com/a9k00r/python-test/master/raw_nyc_phil.json') \n",
    "nycphil = json_normalize(data['programs']) \n",
    "nycphil.head(3) "
   ]
  },
  {
   "cell_type": "code",
   "execution_count": 8,
   "metadata": {},
   "outputs": [],
   "source": [
    "def flatten_json(y):\n",
    "    out = {}\n",
    "\n",
    "    def flatten(x, name=''):\n",
    "        if type(x) is dict:\n",
    "            for a in x:\n",
    "                flatten(x[a], name + a + '_')\n",
    "        elif type(x) is list:\n",
    "            i = 0\n",
    "            for a in x:\n",
    "                flatten(a, name + str(i) + '_')\n",
    "                i += 1\n",
    "        else:\n",
    "            out[name[:-1]] = x\n",
    "\n",
    "    flatten(y)\n",
    "    return out"
   ]
  },
  {
   "cell_type": "code",
   "execution_count": 9,
   "metadata": {},
   "outputs": [],
   "source": [
    "so=[{'Name':'John', 'Location':{'City':'Los Angeles','State':'CA'}, 'hobbies':['Music', 'Running']},\n",
    "   {'Name':'John1', 'Location':{'City':'Los Angeles','State':'CA'}, 'hobbies':['Music', 'Running']}]"
   ]
  },
  {
   "cell_type": "code",
   "execution_count": 10,
   "metadata": {},
   "outputs": [
    {
     "data": {
      "text/html": [
       "<div>\n",
       "<style scoped>\n",
       "    .dataframe tbody tr th:only-of-type {\n",
       "        vertical-align: middle;\n",
       "    }\n",
       "\n",
       "    .dataframe tbody tr th {\n",
       "        vertical-align: top;\n",
       "    }\n",
       "\n",
       "    .dataframe thead th {\n",
       "        text-align: right;\n",
       "    }\n",
       "</style>\n",
       "<table border=\"1\" class=\"dataframe\">\n",
       "  <thead>\n",
       "    <tr style=\"text-align: right;\">\n",
       "      <th></th>\n",
       "      <th>Name</th>\n",
       "      <th>Location_City</th>\n",
       "      <th>Location_State</th>\n",
       "      <th>hobbies_0</th>\n",
       "      <th>hobbies_1</th>\n",
       "    </tr>\n",
       "  </thead>\n",
       "  <tbody>\n",
       "    <tr>\n",
       "      <td>0</td>\n",
       "      <td>John</td>\n",
       "      <td>Los Angeles</td>\n",
       "      <td>CA</td>\n",
       "      <td>Music</td>\n",
       "      <td>Running</td>\n",
       "    </tr>\n",
       "    <tr>\n",
       "      <td>1</td>\n",
       "      <td>John1</td>\n",
       "      <td>Los Angeles</td>\n",
       "      <td>CA</td>\n",
       "      <td>Music</td>\n",
       "      <td>Running</td>\n",
       "    </tr>\n",
       "  </tbody>\n",
       "</table>\n",
       "</div>"
      ],
      "text/plain": [
       "    Name Location_City Location_State hobbies_0 hobbies_1\n",
       "0   John   Los Angeles             CA     Music   Running\n",
       "1  John1   Los Angeles             CA     Music   Running"
      ]
     },
     "execution_count": 10,
     "metadata": {},
     "output_type": "execute_result"
    }
   ],
   "source": [
    "o=[]\n",
    "for i in so:\n",
    "    o.append(flatten_json(i))\n",
    "df=pd.DataFrame(o)\n",
    "df"
   ]
  },
  {
   "cell_type": "markdown",
   "metadata": {},
   "source": [
    "## Reverse String"
   ]
  },
  {
   "cell_type": "markdown",
   "metadata": {},
   "source": [
    "Write a function that reverses a string. The input string is given as an array of characters char[].\n",
    "\n",
    "Do not allocate extra space for another array, you must do this by modifying the input array in-place with O(1) extra memory.\n",
    "\n",
    "You may assume all the characters consist of printable ascii characters.\n",
    "\n",
    " \n",
    "\n",
    "Example 1:\n",
    "\n",
    "Input: [\"h\",\"e\",\"l\",\"l\",\"o\"]\n",
    "Output: [\"o\",\"l\",\"l\",\"e\",\"h\"]\n",
    "Example 2:\n",
    "\n",
    "Input: [\"H\",\"a\",\"n\",\"n\",\"a\",\"h\"]\n",
    "Output: [\"h\",\"a\",\"n\",\"n\",\"a\",\"H\"]"
   ]
  },
  {
   "cell_type": "code",
   "execution_count": 11,
   "metadata": {},
   "outputs": [],
   "source": [
    "def rev_str(I):\n",
    "    left=0\n",
    "    right=len(I)-1\n",
    "    while left<right:\n",
    "        I[left],I[right]=I[right],I[left]\n",
    "        left+=1\n",
    "        right-=1\n",
    "    return I"
   ]
  },
  {
   "cell_type": "code",
   "execution_count": 12,
   "metadata": {},
   "outputs": [
    {
     "data": {
      "text/plain": [
       "['o', 'l', 'l', 'e', 'h']"
      ]
     },
     "execution_count": 12,
     "metadata": {},
     "output_type": "execute_result"
    }
   ],
   "source": [
    "rev_str( [\"h\",\"e\",\"l\",\"l\",\"o\"] )"
   ]
  },
  {
   "cell_type": "code",
   "execution_count": 13,
   "metadata": {},
   "outputs": [
    {
     "data": {
      "text/plain": [
       "['h', 'a', 'n', 'n', 'a', 'H']"
      ]
     },
     "execution_count": 13,
     "metadata": {},
     "output_type": "execute_result"
    }
   ],
   "source": [
    "rev_str([\"H\",\"a\",\"n\",\"n\",\"a\",\"h\"])"
   ]
  },
  {
   "cell_type": "markdown",
   "metadata": {},
   "source": [
    "## Single Number"
   ]
  },
  {
   "cell_type": "markdown",
   "metadata": {},
   "source": [
    "Given a non-empty array of integers, every element appears twice except for one. Find that single one.\n",
    "\n",
    "Note:\n",
    "\n",
    "Your algorithm should have a linear runtime complexity. Could you implement it without using extra memory?\n",
    "\n",
    "Example 1:\n",
    "\n",
    "Input: [2,2,1]\n",
    "Output: 1\n",
    "Example 2:\n",
    "\n",
    "Input: [4,1,2,1,2]\n",
    "Output: 4"
   ]
  },
  {
   "cell_type": "code",
   "execution_count": 14,
   "metadata": {},
   "outputs": [],
   "source": [
    "def singleNumber(nums):\n",
    "        t=[]\n",
    "        for i in nums:\n",
    "            if i not in t:\n",
    "                t.append(i)\n",
    "            else:\n",
    "                t.remove(i)\n",
    "        return t.pop()"
   ]
  },
  {
   "cell_type": "code",
   "execution_count": 15,
   "metadata": {},
   "outputs": [
    {
     "data": {
      "text/plain": [
       "1"
      ]
     },
     "execution_count": 15,
     "metadata": {},
     "output_type": "execute_result"
    }
   ],
   "source": [
    "singleNumber( [2,2,1])"
   ]
  },
  {
   "cell_type": "code",
   "execution_count": 16,
   "metadata": {},
   "outputs": [
    {
     "data": {
      "text/plain": [
       "4"
      ]
     },
     "execution_count": 16,
     "metadata": {},
     "output_type": "execute_result"
    }
   ],
   "source": [
    "singleNumber([4,1,2,1,2])"
   ]
  },
  {
   "cell_type": "markdown",
   "metadata": {},
   "source": [
    "## Zolando"
   ]
  },
  {
   "cell_type": "code",
   "execution_count": 1,
   "metadata": {},
   "outputs": [
    {
     "data": {
      "text/plain": [
       "[1, 2, -1, -2, 0]"
      ]
     },
     "execution_count": 1,
     "metadata": {},
     "output_type": "execute_result"
    }
   ],
   "source": [
    "n=5\n",
    "b=int(n/2) if n%2==0 else int((n-1)/2)\n",
    "k=set()\n",
    "for i in range(b+1):\n",
    "    if i not in k and i!=0:\n",
    "        k.add(i)\n",
    "l=list(k)\n",
    "for i in k:\n",
    "    l.append(i*-1)\n",
    "if n%2!=0:\n",
    "    l.append(0)\n",
    "l"
   ]
  },
  {
   "cell_type": "code",
   "execution_count": 2,
   "metadata": {},
   "outputs": [
    {
     "data": {
      "text/plain": [
       "3"
      ]
     },
     "execution_count": 2,
     "metadata": {},
     "output_type": "execute_result"
    }
   ],
   "source": [
    "l=[1,2,-4,2]\n",
    "a=0\n",
    "b=0\n",
    "for i in range(len(l)):\n",
    "    a=a+l[i]\n",
    "    if a<0:\n",
    "        a=0\n",
    "    elif b<a:\n",
    "        b=a\n",
    "b"
   ]
  },
  {
   "cell_type": "code",
   "execution_count": 1,
   "metadata": {},
   "outputs": [
    {
     "data": {
      "text/plain": [
       "[2, 2, 10, 0, 0, 0, 2, 0]"
      ]
     },
     "execution_count": 1,
     "metadata": {},
     "output_type": "execute_result"
    }
   ],
   "source": [
    "nums=[2, 2, 10, 13,13,1,2,13]\n",
    "p=0\n",
    "l=[]\n",
    "for i in nums:\n",
    "    if i==13:\n",
    "        p=1\n",
    "        l.append(0)\n",
    "    elif p==1:\n",
    "        l.append(0)\n",
    "        p=0\n",
    "    else:\n",
    "        l.append(i)\n",
    "l"
   ]
  },
  {
   "cell_type": "code",
   "execution_count": 2,
   "metadata": {},
   "outputs": [
    {
     "name": "stdout",
     "output_type": "stream",
     "text": [
      "\n",
      "aNone\n",
      "abdcdcdcNone\n",
      "dfdfdfdedededededededededededeNone\n"
     ]
    }
   ],
   "source": [
    "def num_str(a):\n",
    "    import re\n",
    "    if a=='':\n",
    "        return a\n",
    "    elif a[0].isalpha():\n",
    "        a='1'+a\n",
    "    new_a=re.split('(\\d+)',a)[1:]\n",
    "    for i in range(len(new_a)):\n",
    "        if i%2==0:\n",
    "            print(int(new_a[i])*new_a[i+1],end=\"\")\n",
    "print(num_str(''))\n",
    "print(num_str('a'))\n",
    "print(num_str('ab3dc'))\n",
    "print(num_str('3df12de'))"
   ]
  },
  {
   "cell_type": "markdown",
   "metadata": {},
   "source": [
    "## Armstrong Number"
   ]
  },
  {
   "cell_type": "markdown",
   "metadata": {},
   "source": [
    "The k-digit number N is an Armstrong number if and only if the k-th power of each digit sums to N.\n",
    "\n",
    "Given a positive integer N, return true if and only if it is an Armstrong number.\n",
    "\n",
    " \n",
    "\n",
    "Example 1:\n",
    "\n",
    "Input: 153\n",
    "Output: true\n",
    "Explanation: \n",
    "153 is a 3-digit number, and 153 = 1^3 + 5^3 + 3^3.\n",
    "Example 2:\n",
    "\n",
    "Input: 123\n",
    "Output: false\n",
    "Explanation: \n",
    "123 is a 3-digit number, and 123 != 1^3 + 2^3 + 3^3 = 36."
   ]
  },
  {
   "cell_type": "code",
   "execution_count": 3,
   "metadata": {},
   "outputs": [],
   "source": [
    "def armstrong(x):\n",
    "    return x==sum(int(i)**len(str(x)) for i in str(x))"
   ]
  },
  {
   "cell_type": "code",
   "execution_count": 4,
   "metadata": {},
   "outputs": [
    {
     "data": {
      "text/plain": [
       "True"
      ]
     },
     "execution_count": 4,
     "metadata": {},
     "output_type": "execute_result"
    }
   ],
   "source": [
    "armstrong(153)"
   ]
  },
  {
   "cell_type": "code",
   "execution_count": 5,
   "metadata": {},
   "outputs": [
    {
     "data": {
      "text/plain": [
       "False"
      ]
     },
     "execution_count": 5,
     "metadata": {},
     "output_type": "execute_result"
    }
   ],
   "source": [
    "armstrong(123)"
   ]
  },
  {
   "cell_type": "markdown",
   "metadata": {},
   "source": [
    "### Count Substrings with Only One Distinct Letter"
   ]
  },
  {
   "cell_type": "markdown",
   "metadata": {},
   "source": [
    "Given a string S, return the number of substrings that have only one distinct letter.\n",
    "\n",
    " \n",
    "\n",
    "Example 1:\n",
    "\n",
    "Input: S = \"aaaba\"\n",
    "Output: 8\n",
    "Explanation: The substrings with one distinct letter are \"aaa\", \"aa\", \"a\", \"b\".\n",
    "\"aaa\" occurs 1 time.\n",
    "\"aa\" occurs 2 times.\n",
    "\"a\" occurs 4 times.\n",
    "\"b\" occurs 1 time.\n",
    "So the answer is 1 + 2 + 4 + 1 = 8.\n",
    "Example 2:\n",
    "\n",
    "Input: S = \"aaaaaaaaaa\"\n",
    "Output: 55"
   ]
  },
  {
   "cell_type": "code",
   "execution_count": 6,
   "metadata": {},
   "outputs": [],
   "source": [
    "def cn(s):\n",
    "    c=0\n",
    "    return sum([1 for i in range(len(s)) for j in range(len(s)) if len(set(s[i:j+1]))==1])"
   ]
  },
  {
   "cell_type": "code",
   "execution_count": 7,
   "metadata": {},
   "outputs": [
    {
     "data": {
      "text/plain": [
       "8"
      ]
     },
     "execution_count": 7,
     "metadata": {},
     "output_type": "execute_result"
    }
   ],
   "source": [
    "cn('aaaba')"
   ]
  },
  {
   "cell_type": "code",
   "execution_count": 8,
   "metadata": {},
   "outputs": [
    {
     "data": {
      "text/plain": [
       "55"
      ]
     },
     "execution_count": 8,
     "metadata": {},
     "output_type": "execute_result"
    }
   ],
   "source": [
    "cn('aaaaaaaaaa')"
   ]
  },
  {
   "cell_type": "code",
   "execution_count": 9,
   "metadata": {},
   "outputs": [],
   "source": [
    "def us(s):\n",
    "    s=' '+s+' '\n",
    "    t,c=0,1\n",
    "    for i in range(1,len(s)-1):\n",
    "        if s[i]!=s[i-1]:\n",
    "            c=1\n",
    "        else:\n",
    "            c+=1\n",
    "        t+=c\n",
    "    return t"
   ]
  },
  {
   "cell_type": "code",
   "execution_count": 10,
   "metadata": {},
   "outputs": [
    {
     "data": {
      "text/plain": [
       "8"
      ]
     },
     "execution_count": 10,
     "metadata": {},
     "output_type": "execute_result"
    }
   ],
   "source": [
    "us('aaaba')"
   ]
  },
  {
   "cell_type": "code",
   "execution_count": 11,
   "metadata": {},
   "outputs": [
    {
     "data": {
      "text/plain": [
       "55"
      ]
     },
     "execution_count": 11,
     "metadata": {},
     "output_type": "execute_result"
    }
   ],
   "source": [
    "us('aaaaaaaaaa')"
   ]
  },
  {
   "cell_type": "code",
   "execution_count": null,
   "metadata": {},
   "outputs": [],
   "source": [
    "select length(a)-length(replace(a,',','')) from t"
   ]
  },
  {
   "cell_type": "markdown",
   "metadata": {},
   "source": [
    "## Move Zeroes     # Walmart"
   ]
  },
  {
   "cell_type": "markdown",
   "metadata": {},
   "source": [
    "Given an array nums, write a function to move all 0's to the end of it while maintaining the relative order of the non-zero elements.\n",
    "\n",
    "Example:\n",
    "\n",
    "Input: [0,1,0,3,12]\n",
    "Output: [1,3,12,0,0]"
   ]
  },
  {
   "cell_type": "code",
   "execution_count": 2,
   "metadata": {},
   "outputs": [],
   "source": [
    "def moveZeroes(I):\n",
    "    I[:]= [i for i in I if i!=0]+[0]*I.count(0) \n",
    "    return I"
   ]
  },
  {
   "cell_type": "code",
   "execution_count": 3,
   "metadata": {},
   "outputs": [
    {
     "data": {
      "text/plain": [
       "[1, 3, 12, 0, 0]"
      ]
     },
     "execution_count": 3,
     "metadata": {},
     "output_type": "execute_result"
    }
   ],
   "source": [
    "moveZeroes([0,1,0,3,12])"
   ]
  },
  {
   "cell_type": "markdown",
   "metadata": {},
   "source": [
    "## Degree of an Array # Walmart"
   ]
  },
  {
   "cell_type": "markdown",
   "metadata": {},
   "source": [
    "Given a non-empty array of non-negative integers nums, the degree of this array is defined as the maximum frequency of any one of its elements.\n",
    "\n",
    "Your task is to find the smallest possible length of a (contiguous) subarray of nums, that has the same degree as nums.\n",
    "\n",
    "Example 1:\n",
    "Input: [1, 2, 2, 3, 1]\n",
    "Output: 2\n",
    "Explanation: \n",
    "The input array has a degree of 2 because both elements 1 and 2 appear twice.\n",
    "Of the subarrays that have the same degree:\n",
    "[1, 2, 2, 3, 1], [1, 2, 2, 3], [2, 2, 3, 1], [1, 2, 2], [2, 2, 3], [2, 2]\n",
    "The shortest length is 2. So return 2.\n",
    "Example 2:\n",
    "Input: [1,2,2,3,1,4,2]\n",
    "Output: 6"
   ]
  },
  {
   "cell_type": "code",
   "execution_count": 2,
   "metadata": {},
   "outputs": [],
   "source": [
    "def findShortestSubArray(nums):\n",
    "        d={}\n",
    "        for i,k in enumerate(nums):\n",
    "            if k not in d:\n",
    "                d[k]=[i]\n",
    "            else:\n",
    "                d[k].append(i)\n",
    "        m=max(len(i) for i in d.values())\n",
    "        return min(i[-1]-i[0] for i in d.values() if len(i)==m)+1"
   ]
  },
  {
   "cell_type": "code",
   "execution_count": 3,
   "metadata": {},
   "outputs": [
    {
     "data": {
      "text/plain": [
       "2"
      ]
     },
     "execution_count": 3,
     "metadata": {},
     "output_type": "execute_result"
    }
   ],
   "source": [
    "findShortestSubArray([1, 2, 2, 3, 1])"
   ]
  },
  {
   "cell_type": "code",
   "execution_count": 4,
   "metadata": {},
   "outputs": [
    {
     "data": {
      "text/plain": [
       "6"
      ]
     },
     "execution_count": 4,
     "metadata": {},
     "output_type": "execute_result"
    }
   ],
   "source": [
    "findShortestSubArray([1,2,2,3,1,4,2])"
   ]
  },
  {
   "cell_type": "markdown",
   "metadata": {},
   "source": [
    "## First Unique Character in a String  # Walmart"
   ]
  },
  {
   "cell_type": "markdown",
   "metadata": {},
   "source": [
    "Given a string, find the first non-repeating character in it and return it's index. If it doesn't exist, return -1.\n",
    "\n",
    "Examples:\n",
    "\n",
    "s = \"leetcode\"\n",
    "return 0.\n",
    "\n",
    "s = \"loveleetcode\",\n",
    "return 2."
   ]
  },
  {
   "cell_type": "code",
   "execution_count": 5,
   "metadata": {},
   "outputs": [],
   "source": [
    "def firstUniqChar(s):\n",
    "        return ([s.index(i) for i in s if s.count(i)==1]+[-1])[0]"
   ]
  },
  {
   "cell_type": "code",
   "execution_count": 6,
   "metadata": {},
   "outputs": [
    {
     "data": {
      "text/plain": [
       "0"
      ]
     },
     "execution_count": 6,
     "metadata": {},
     "output_type": "execute_result"
    }
   ],
   "source": [
    "firstUniqChar(\"leetcode\")"
   ]
  },
  {
   "cell_type": "code",
   "execution_count": 7,
   "metadata": {},
   "outputs": [
    {
     "data": {
      "text/plain": [
       "2"
      ]
     },
     "execution_count": 7,
     "metadata": {},
     "output_type": "execute_result"
    }
   ],
   "source": [
    "firstUniqChar(\"loveleetcode\")"
   ]
  },
  {
   "cell_type": "code",
   "execution_count": 8,
   "metadata": {},
   "outputs": [
    {
     "data": {
      "text/plain": [
       "-1"
      ]
     },
     "execution_count": 8,
     "metadata": {},
     "output_type": "execute_result"
    }
   ],
   "source": [
    "firstUniqChar(\"\")"
   ]
  },
  {
   "cell_type": "markdown",
   "metadata": {},
   "source": [
    "## Two Sum  # Walmart"
   ]
  },
  {
   "cell_type": "markdown",
   "metadata": {},
   "source": [
    "Given an array of integers, return indices of the two numbers such that they add up to a specific target.\n",
    "\n",
    "You may assume that each input would have exactly one solution, and you may not use the same element twice.\n",
    "\n",
    "Example:\n",
    "\n",
    "Given nums = [2, 7, 11, 15], target = 9,\n",
    "\n",
    "Because nums[0] + nums[1] = 2 + 7 = 9,\n",
    "return [0, 1]."
   ]
  },
  {
   "cell_type": "code",
   "execution_count": 10,
   "metadata": {},
   "outputs": [],
   "source": [
    "def twoSum(nums, target):\n",
    "        for i in range(len(nums)):\n",
    "            if target-nums[i] in nums[i+1:]:\n",
    "                return [i,nums.index(target-nums[i],i+1)]"
   ]
  },
  {
   "cell_type": "code",
   "execution_count": 11,
   "metadata": {},
   "outputs": [
    {
     "data": {
      "text/plain": [
       "[0, 1]"
      ]
     },
     "execution_count": 11,
     "metadata": {},
     "output_type": "execute_result"
    }
   ],
   "source": [
    "twoSum([2, 7, 11, 15],9)"
   ]
  },
  {
   "cell_type": "code",
   "execution_count": 13,
   "metadata": {},
   "outputs": [
    {
     "data": {
      "text/plain": [
       "[1, 2]"
      ]
     },
     "execution_count": 13,
     "metadata": {},
     "output_type": "execute_result"
    }
   ],
   "source": [
    "twoSum([3,2,4],6)"
   ]
  },
  {
   "cell_type": "code",
   "execution_count": null,
   "metadata": {},
   "outputs": [],
   "source": [
    "Best Time to Buy and Sell Stock\n",
    "\n",
    "\n",
    "Say you have an array for which the ith element is the price of a given stock on day i.\n",
    "\n",
    "If you were only permitted to complete at most one transaction (i.e., buy one and sell one share of the stock), design an algorithm to find the maximum profit.\n",
    "\n",
    "Note that you cannot sell a stock before you buy one.\n",
    "\n",
    "Example 1:\n",
    "\n",
    "Input: [7,1,5,3,6,4]\n",
    "Output: 5\n",
    "Explanation: Buy on day 2 (price = 1) and sell on day 5 (price = 6), profit = 6-1 = 5.\n",
    "             Not 7-1 = 6, as selling price needs to be larger than buying price.\n",
    "Example 2:\n",
    "\n",
    "Input: [7,6,4,3,1]\n",
    "Output: 0\n",
    "Explanation: In this case, no transaction is done, i.e. max profit = 0.\n",
    "\n",
    "\n",
    "\n",
    "n=len(prices)\n",
    "        if n<=1:\n",
    "            return 0\n",
    "        max_profit=0\n",
    "        low_price=prices[0]\n",
    "        for i in range(1,n):\n",
    "            low_price=min(low_price,prices[i])\n",
    "            max_profit=max(max_profit, prices[i]-low_price)\n",
    "        return max_profit"
   ]
  },
  {
   "cell_type": "markdown",
   "metadata": {},
   "source": [
    "## House Robber # Walmart"
   ]
  },
  {
   "cell_type": "markdown",
   "metadata": {},
   "source": [
    "You are a professional robber planning to rob houses along a street. Each house has a certain amount of money stashed, the only constraint stopping you from robbing each of them is that adjacent houses have security system connected and it will automatically contact the police if two adjacent houses were broken into on the same night.\n",
    "\n",
    "Given a list of non-negative integers representing the amount of money of each house, determine the maximum amount of money you can rob tonight without alerting the police.\n",
    "\n",
    "Example 1:\n",
    "\n",
    "Input: [1,2,3,1]\n",
    "Output: 4\n",
    "Explanation: Rob house 1 (money = 1) and then rob house 3 (money = 3).\n",
    "             Total amount you can rob = 1 + 3 = 4.\n",
    "Example 2:\n",
    "\n",
    "Input: [2,7,9,3,1]\n",
    "Output: 12\n",
    "Explanation: Rob house 1 (money = 2), rob house 3 (money = 9) and rob house 5 (money = 1).\n",
    "             Total amount you can rob = 2 + 9 + 1 = 12."
   ]
  },
  {
   "cell_type": "code",
   "execution_count": 14,
   "metadata": {},
   "outputs": [],
   "source": [
    "def rob(nums):\n",
    "        last, now = 0, 0\n",
    "        \n",
    "        for i in nums: last, now = now, max(last + i, now)\n",
    "                \n",
    "        return now"
   ]
  },
  {
   "cell_type": "code",
   "execution_count": 16,
   "metadata": {},
   "outputs": [
    {
     "data": {
      "text/plain": [
       "12"
      ]
     },
     "execution_count": 16,
     "metadata": {},
     "output_type": "execute_result"
    }
   ],
   "source": [
    "rob([2,7,9,3,1] )"
   ]
  },
  {
   "cell_type": "code",
   "execution_count": 17,
   "metadata": {},
   "outputs": [
    {
     "data": {
      "text/plain": [
       "4"
      ]
     },
     "execution_count": 17,
     "metadata": {},
     "output_type": "execute_result"
    }
   ],
   "source": [
    "rob([1,2,3,1] )"
   ]
  },
  {
   "cell_type": "code",
   "execution_count": null,
   "metadata": {},
   "outputs": [],
   "source": [
    "Maximum Subarray\n",
    "\n",
    "Given an integer array nums, find the contiguous subarray (containing at least one number) which has the largest sum and return its sum.\n",
    "\n",
    "Example:\n",
    "\n",
    "Input: [-2,1,-3,4,-1,2,1,-5,4],\n",
    "Output: 6\n",
    "Explanation: [4,-1,2,1] has the largest sum = 6.\n",
    "Follow up:\n",
    "\n",
    "If you have figured out the O(n) solution, try coding another solution using the divide and conquer approach, which is more subtle.\n",
    "\n",
    "\n",
    "def maxSubArray(self, nums: 'List[int]') -> 'int':\n",
    "        n = len(nums)\n",
    "        curr_sum = max_sum = nums[0]\n",
    "\n",
    "        for i in range(1, n):\n",
    "            curr_sum = max(nums[i], curr_sum + nums[i])\n",
    "            max_sum = max(max_sum, curr_sum)\n",
    "            \n",
    "        return max_sum"
   ]
  },
  {
   "cell_type": "markdown",
   "metadata": {},
   "source": [
    "# LinkedIn"
   ]
  },
  {
   "cell_type": "markdown",
   "metadata": {},
   "source": [
    "# Two Sum III - Data structure design\n",
    "Design and implement a TwoSum class. It should support the following operations: add and find.\n",
    "\n",
    "add - Add the number to an internal data structure.\n",
    "find - Find if there exists any pair of numbers which sum is equal to the value.\n",
    "\n",
    "Example 1:\n",
    "\n",
    "add(1); add(3); add(5);\n",
    "find(4) -> true\n",
    "find(7) -> false\n",
    "Example 2:\n",
    "\n",
    "add(3); add(1); add(2);\n",
    "find(3) -> true\n",
    "find(6) -> false"
   ]
  },
  {
   "cell_type": "code",
   "execution_count": 1,
   "metadata": {},
   "outputs": [],
   "source": [
    "class TwoSum:\n",
    "    \n",
    "    def __init__(self):\n",
    "        self.d_num={}\n",
    "    \n",
    "    def add(self,num):\n",
    "        if num not in self.d_num:\n",
    "            self.d_num[num]=1\n",
    "        else:\n",
    "             self.d_num[num]=self.d_num[num]+1\n",
    "    \n",
    "    def show(self):\n",
    "        return self.d_num\n",
    "    \n",
    "    def find(self,value):\n",
    "        for i in self.d_num.keys():\n",
    "            d=value-i\n",
    "            if i!=d:\n",
    "                if d in self.d_num:\n",
    "                    return True\n",
    "#                 else:\n",
    "#                     return False\n",
    "            elif self.d_num[i]>1:\n",
    "                return True\n",
    "        return False"
   ]
  },
  {
   "cell_type": "code",
   "execution_count": 2,
   "metadata": {},
   "outputs": [],
   "source": [
    "y=TwoSum()"
   ]
  },
  {
   "cell_type": "code",
   "execution_count": 3,
   "metadata": {},
   "outputs": [],
   "source": [
    "y.add(3)"
   ]
  },
  {
   "cell_type": "code",
   "execution_count": 4,
   "metadata": {},
   "outputs": [],
   "source": [
    "y.add(1)"
   ]
  },
  {
   "cell_type": "code",
   "execution_count": 5,
   "metadata": {},
   "outputs": [],
   "source": [
    "y.add(2)"
   ]
  },
  {
   "cell_type": "code",
   "execution_count": 6,
   "metadata": {},
   "outputs": [
    {
     "data": {
      "text/plain": [
       "{3: 1, 1: 1, 2: 1}"
      ]
     },
     "execution_count": 6,
     "metadata": {},
     "output_type": "execute_result"
    }
   ],
   "source": [
    "y.show()"
   ]
  },
  {
   "cell_type": "code",
   "execution_count": 7,
   "metadata": {},
   "outputs": [
    {
     "data": {
      "text/plain": [
       "True"
      ]
     },
     "execution_count": 7,
     "metadata": {},
     "output_type": "execute_result"
    }
   ],
   "source": [
    "y.find(3)"
   ]
  },
  {
   "cell_type": "markdown",
   "metadata": {},
   "source": [
    "# Nested List Weight Sum\n",
    "Given a nested list of integers, return the sum of all integers in the list weighted by their depth.\n",
    "\n",
    "Each element is either an integer, or a list -- whose elements may also be integers or other lists.\n",
    "\n",
    "Example 1:\n",
    "\n",
    "Input: [[1,1],2,[1,1]]\n",
    "Output: 10 \n",
    "Explanation: Four 1's at depth 2, one 2 at depth 1.\n",
    "Example 2:\n",
    "\n",
    "Input: [1,[4,[6]]]\n",
    "Output: 27 \n",
    "Explanation: One 1 at depth 1, one 4 at depth 2, and one 6 at depth 3; 1 + 4*2 + 6*3 = 27."
   ]
  },
  {
   "cell_type": "code",
   "execution_count": 1,
   "metadata": {},
   "outputs": [],
   "source": [
    "def ws(x):\n",
    "    d=1\n",
    "    \n",
    "    def wsi(x,d):\n",
    "        s=0\n",
    "        for i in x:\n",
    "            if isinstance(i,list):\n",
    "                #d=d+1\n",
    "                s=s+wsi(i,d+1)\n",
    "            else:\n",
    "                s=s+i*d\n",
    "        return s\n",
    "    return wsi(x,d)"
   ]
  },
  {
   "cell_type": "code",
   "execution_count": 2,
   "metadata": {},
   "outputs": [
    {
     "data": {
      "text/plain": [
       "10"
      ]
     },
     "execution_count": 2,
     "metadata": {},
     "output_type": "execute_result"
    }
   ],
   "source": [
    "ws( [[1,1],2,[1,1]])"
   ]
  },
  {
   "cell_type": "code",
   "execution_count": 3,
   "metadata": {},
   "outputs": [
    {
     "data": {
      "text/plain": [
       "27"
      ]
     },
     "execution_count": 3,
     "metadata": {},
     "output_type": "execute_result"
    }
   ],
   "source": [
    "ws( [1,[4,[6]]] )"
   ]
  },
  {
   "cell_type": "markdown",
   "metadata": {},
   "source": [
    "# Maximum Subarray\n",
    "\n",
    "Given an integer array nums, find the contiguous subarray (containing at least one number) which has the largest sum and return its sum.\n",
    "\n",
    "Example:\n",
    "\n",
    "Input: [-2,1,-3,4,-1,2,1,-5,4],\n",
    "Output: 6\n",
    "Explanation: [4,-1,2,1] has the largest sum = 6."
   ]
  },
  {
   "cell_type": "code",
   "execution_count": 4,
   "metadata": {},
   "outputs": [],
   "source": [
    "def max_sub(a):\n",
    "    curr_sum=max_sum=a[0]\n",
    "    for i in range(1,len(a)):\n",
    "        curr_sum=max(a[i],curr_sum+a[i])\n",
    "        max_sum=max(curr_sum,max_sum)\n",
    "    return max_sum"
   ]
  },
  {
   "cell_type": "code",
   "execution_count": 5,
   "metadata": {},
   "outputs": [
    {
     "data": {
      "text/plain": [
       "6"
      ]
     },
     "execution_count": 5,
     "metadata": {},
     "output_type": "execute_result"
    }
   ],
   "source": [
    "max_sub([-2,1,-3,4,-1,2,1,-5,4])"
   ]
  },
  {
   "cell_type": "markdown",
   "metadata": {},
   "source": [
    "## 205. Isomorphic Strings\n",
    "\n",
    "Given two strings s and t, determine if they are isomorphic.\n",
    "\n",
    "Two strings are isomorphic if the characters in s can be replaced to get t.\n",
    "\n",
    "All occurrences of a character must be replaced with another character while preserving the order of characters. No two characters may map to the same character but a character may map to itself.\n",
    "\n",
    "Example 1:\n",
    "\n",
    "Input: s = \"egg\", t = \"add\"\n",
    "Output: true\n",
    "Example 2:\n",
    "\n",
    "Input: s = \"foo\", t = \"bar\"\n",
    "Output: false\n",
    "Example 3:\n",
    "\n",
    "Input: s = \"paper\", t = \"title\"\n",
    "Output: true\n",
    "Note:\n",
    "You may assume both s and t have the same length.\n",
    "\n"
   ]
  },
  {
   "cell_type": "code",
   "execution_count": 2,
   "metadata": {},
   "outputs": [],
   "source": [
    "def iso(s,t):\n",
    "    s_d={}\n",
    "    t_d={}\n",
    "    for i in range(len(s)):\n",
    "        if s[i] in s_d.keys():\n",
    "            continue\n",
    "        else:\n",
    "            s_d[s[i]]=t[i]\n",
    "    s_n=\"\"\n",
    "    for i in s:\n",
    "        s_n=s_n+s_d[i]\n",
    "    for i in range(len(s)):\n",
    "        if t[i] in t_d.keys():\n",
    "            continue\n",
    "        else:\n",
    "            t_d[t[i]]=s[i]\n",
    "    t_n=\"\"\n",
    "    for i in t:\n",
    "        t_n=t_n+t_d[i]\n",
    "    return s_n==t and t_n==s"
   ]
  },
  {
   "cell_type": "code",
   "execution_count": 3,
   "metadata": {},
   "outputs": [
    {
     "data": {
      "text/plain": [
       "True"
      ]
     },
     "execution_count": 3,
     "metadata": {},
     "output_type": "execute_result"
    }
   ],
   "source": [
    "iso('egg','add')"
   ]
  },
  {
   "cell_type": "code",
   "execution_count": 4,
   "metadata": {},
   "outputs": [
    {
     "data": {
      "text/plain": [
       "False"
      ]
     },
     "execution_count": 4,
     "metadata": {},
     "output_type": "execute_result"
    }
   ],
   "source": [
    "iso('foo','bar')"
   ]
  },
  {
   "cell_type": "code",
   "execution_count": 5,
   "metadata": {},
   "outputs": [
    {
     "data": {
      "text/plain": [
       "True"
      ]
     },
     "execution_count": 5,
     "metadata": {},
     "output_type": "execute_result"
    }
   ],
   "source": [
    "iso('paper','title')"
   ]
  },
  {
   "cell_type": "markdown",
   "metadata": {},
   "source": [
    "# Merge Sort"
   ]
  },
  {
   "cell_type": "code",
   "execution_count": 6,
   "metadata": {},
   "outputs": [],
   "source": [
    "def merge_lists(list1, list2):\n",
    "    # Write your code here\n",
    "    nl=[]\n",
    "    n1=len(list1)\n",
    "    n2=len(list2)\n",
    "    i=0\n",
    "    j=0\n",
    "    x=[]\n",
    "    while n1>0 and n2>0:\n",
    "        if list1[i]<list2[j]:\n",
    "            nl.append(list1[i])\n",
    "            i=i+1\n",
    "            n1=n1-1\n",
    "        else:\n",
    "            nl.append(list2[j])\n",
    "            j=j+1\n",
    "            n2=n2-1\n",
    "    #print(i,j,n1,n2,len(list1),len(list2),len(list1)-i,len(list2)-j)\n",
    "    if len(list1)-i>0:\n",
    "        x=nl+list1[i:]\n",
    "    if len(list2)-j>0:\n",
    "        x=nl+list2[j:]\n",
    "    return x"
   ]
  },
  {
   "cell_type": "code",
   "execution_count": 7,
   "metadata": {},
   "outputs": [
    {
     "data": {
      "text/plain": [
       "{'Physics': ['title: Concept of Physics author: H C Verma',\n",
       "  'title: Elementry of Physcis author: N D Tiwari'],\n",
       " 'Part1': ['title: Concept of Physics author: H C Verma',\n",
       "  'title: Mathematics author: K C Sinha'],\n",
       " 'Part2': ['title: Elementry of Physcis author: N D Tiwari'],\n",
       " 'Maths': ['title: Mathematics author: K C Sinha']}"
      ]
     },
     "execution_count": 7,
     "metadata": {},
     "output_type": "execute_result"
    }
   ],
   "source": [
    "Book1={'title':'Concept of Physics','author':'H C Verma','desc':'Physics Part1'}\n",
    "Book2={'title':'Elementry of Physcis','author':'N D Tiwari','desc':'Physics Part2'}\n",
    "Book3={'title':'Mathematics','author':'K C Sinha','desc':'Maths Part1'}\n",
    "l=[Book1,Book2,Book3]\n",
    "d={}\n",
    "for i in l:\n",
    "    for j in i['desc'].split():\n",
    "        if j not in d:\n",
    "            d[j]=['title: '+i['title']+' author: '+i['author']]\n",
    "        else:\n",
    "            d[j]=d[j]+['title: '+i['title']+' author: '+i['author']]\n",
    "d"
   ]
  },
  {
   "cell_type": "code",
   "execution_count": 8,
   "metadata": {},
   "outputs": [],
   "source": [
    "class book:\n",
    "    \n",
    "    book_dict={}\n",
    "    \n",
    "    \n",
    "    def __init__(self,title,author,desc):\n",
    "        self.title=title\n",
    "        self.author=author\n",
    "        self.desc=desc\n",
    "        desc_key=self.desc.split()\n",
    "        for j in desc_key:\n",
    "            if j not in book.book_dict:\n",
    "                book.book_dict[j]=['title: '+self.title+' || author: '+self.author]\n",
    "            else:\n",
    "                book.book_dict[j]=book.book_dict[j]+['title: '+self.title+' || author: '+self.author]\n",
    "        \n",
    "    def __str__(self):\n",
    "        return 'Title: '+self.title+'\\nAuthor: '+self.author+'\\nDesc: '+self.desc\n",
    "    \n",
    "    def show(self):\n",
    "        print('Book title is {}, Author of the book is {}'.format(self.title,self.author))\n",
    "        \n",
    "    def book_dict_show(self):\n",
    "        print(book.book_dict)\n",
    "        \n",
    "    def book_find(self,word):\n",
    "        self.word=word\n",
    "        for i in book.book_dict:\n",
    "            if word in book.book_dict.keys():\n",
    "                return book.book_dict[word]\n",
    "            \n",
    "    @classmethod\n",
    "    def from_string(cls, book_str):\n",
    "        title, author, desc = book_str.split('-')\n",
    "        return cls(title, author, desc)\n",
    "        "
   ]
  },
  {
   "cell_type": "code",
   "execution_count": 9,
   "metadata": {},
   "outputs": [],
   "source": [
    "book1=book('Concept of Physics','H C Verma','Physics Part1')\n",
    "book2=book('Elementry of Physcis','N D Tiwari','Physics Part2')\n",
    "book3=book('Mathematics','K C Sinha','Maths Part1')"
   ]
  },
  {
   "cell_type": "code",
   "execution_count": 10,
   "metadata": {},
   "outputs": [
    {
     "name": "stdout",
     "output_type": "stream",
     "text": [
      "Title: Concept of Physics\n",
      "Author: H C Verma\n",
      "Desc: Physics Part1\n"
     ]
    }
   ],
   "source": [
    "print(book1)"
   ]
  },
  {
   "cell_type": "code",
   "execution_count": 11,
   "metadata": {},
   "outputs": [
    {
     "name": "stdout",
     "output_type": "stream",
     "text": [
      "{'Physics': ['title: Concept of Physics || author: H C Verma', 'title: Elementry of Physcis || author: N D Tiwari'], 'Part1': ['title: Concept of Physics || author: H C Verma', 'title: Mathematics || author: K C Sinha'], 'Part2': ['title: Elementry of Physcis || author: N D Tiwari'], 'Maths': ['title: Mathematics || author: K C Sinha']}\n"
     ]
    }
   ],
   "source": [
    "print(book.book_dict)"
   ]
  },
  {
   "cell_type": "code",
   "execution_count": 12,
   "metadata": {},
   "outputs": [
    {
     "data": {
      "text/plain": [
       "{'Physics': ['title: Concept of Physics || author: H C Verma',\n",
       "  'title: Elementry of Physcis || author: N D Tiwari'],\n",
       " 'Part1': ['title: Concept of Physics || author: H C Verma',\n",
       "  'title: Mathematics || author: K C Sinha'],\n",
       " 'Part2': ['title: Elementry of Physcis || author: N D Tiwari'],\n",
       " 'Maths': ['title: Mathematics || author: K C Sinha']}"
      ]
     },
     "execution_count": 12,
     "metadata": {},
     "output_type": "execute_result"
    }
   ],
   "source": [
    "book.book_dict"
   ]
  },
  {
   "cell_type": "code",
   "execution_count": 13,
   "metadata": {},
   "outputs": [
    {
     "name": "stdout",
     "output_type": "stream",
     "text": [
      "{'Physics': ['title: Concept of Physics || author: H C Verma', 'title: Elementry of Physcis || author: N D Tiwari'], 'Part1': ['title: Concept of Physics || author: H C Verma', 'title: Mathematics || author: K C Sinha'], 'Part2': ['title: Elementry of Physcis || author: N D Tiwari'], 'Maths': ['title: Mathematics || author: K C Sinha']}\n"
     ]
    }
   ],
   "source": [
    "book.book_dict_show(object)"
   ]
  },
  {
   "cell_type": "code",
   "execution_count": 14,
   "metadata": {},
   "outputs": [
    {
     "data": {
      "text/plain": [
       "['title: Concept of Physics || author: H C Verma',\n",
       " 'title: Elementry of Physcis || author: N D Tiwari']"
      ]
     },
     "execution_count": 14,
     "metadata": {},
     "output_type": "execute_result"
    }
   ],
   "source": [
    "book.book_find(book,'Physics')"
   ]
  },
  {
   "cell_type": "markdown",
   "metadata": {},
   "source": [
    "## Find N Unique Integers Sum up to Zero\n",
    "\n",
    "Given an integer n, return any array containing n unique integers such that they add up to 0.\n",
    "\n",
    " \n",
    "\n",
    "Example 1:\n",
    "\n",
    "Input: n = 5\n",
    "Output: [-7,-1,1,3,4]\n",
    "Explanation: These arrays also are accepted [-5,-1,1,2,3] , [-3,-1,2,-2,4].\n",
    "Example 2:\n",
    "\n",
    "Input: n = 3\n",
    "Output: [-1,0,1]\n",
    "Example 3:\n",
    "\n",
    "Input: n = 1\n",
    "Output: [0]"
   ]
  },
  {
   "cell_type": "code",
   "execution_count": 1,
   "metadata": {},
   "outputs": [],
   "source": [
    "def sumZero(n):\n",
    "        o=[]\n",
    "        if n%2==0:\n",
    "            for i in range(n//2):\n",
    "                o.append(i+1)\n",
    "                o.append((i+1)*-1)\n",
    "        else:\n",
    "            for i in range((n-1)//2):\n",
    "                o.append(i+1)\n",
    "                o.append((i+1)*-1)\n",
    "            o.append(0)\n",
    "        return o"
   ]
  },
  {
   "cell_type": "code",
   "execution_count": 2,
   "metadata": {},
   "outputs": [
    {
     "data": {
      "text/plain": [
       "[1, -1, 2, -2, 0]"
      ]
     },
     "execution_count": 2,
     "metadata": {},
     "output_type": "execute_result"
    }
   ],
   "source": [
    "sumZero(5)"
   ]
  },
  {
   "cell_type": "code",
   "execution_count": 3,
   "metadata": {},
   "outputs": [
    {
     "data": {
      "text/plain": [
       "[1, -1, 0]"
      ]
     },
     "execution_count": 3,
     "metadata": {},
     "output_type": "execute_result"
    }
   ],
   "source": [
    "sumZero(3)"
   ]
  },
  {
   "cell_type": "code",
   "execution_count": 4,
   "metadata": {},
   "outputs": [
    {
     "data": {
      "text/plain": [
       "[0]"
      ]
     },
     "execution_count": 4,
     "metadata": {},
     "output_type": "execute_result"
    }
   ],
   "source": [
    "sumZero(1)"
   ]
  },
  {
   "cell_type": "markdown",
   "metadata": {},
   "source": [
    "## 1460. Make Two Arrays Equal by Reversing Sub-arrays\n",
    "\n",
    "Given two integer arrays of equal length target and arr.\n",
    "\n",
    "In one step, you can select any non-empty sub-array of arr and reverse it. You are allowed to make any number of steps.\n",
    "\n",
    "Return True if you can make arr equal to target, or False otherwise.\n",
    "\n",
    " \n",
    "\n",
    "Example 1:\n",
    "\n",
    "Input: target = [1,2,3,4], arr = [2,4,1,3]\n",
    "Output: true\n",
    "Explanation: You can follow the next steps to convert arr to target:\n",
    "1- Reverse sub-array [2,4,1], arr becomes [1,4,2,3]\n",
    "2- Reverse sub-array [4,2], arr becomes [1,2,4,3]\n",
    "3- Reverse sub-array [4,3], arr becomes [1,2,3,4]\n",
    "There are multiple ways to convert arr to target, this is not the only way to do so.\n",
    "Example 2:\n",
    "\n",
    "Input: target = [7], arr = [7]\n",
    "Output: true\n",
    "Explanation: arr is equal to target without any reverses.\n",
    "Example 3:\n",
    "\n",
    "Input: target = [1,12], arr = [12,1]\n",
    "Output: true\n",
    "Example 4:\n",
    "\n",
    "Input: target = [3,7,9], arr = [3,7,11]\n",
    "Output: false\n",
    "Explanation: arr doesn't have value 9 and it can never be converted to target.\n",
    "Example 5:\n",
    "\n",
    "Input: target = [1,1,1,1,1], arr = [1,1,1,1,1]\n",
    "Output: true"
   ]
  },
  {
   "cell_type": "code",
   "execution_count": 5,
   "metadata": {},
   "outputs": [],
   "source": [
    "def canBeEqual(target,arr):\n",
    "        target.sort()\n",
    "        arr.sort()\n",
    "        if target==arr:\n",
    "            return True\n",
    "        else:\n",
    "            return False"
   ]
  },
  {
   "cell_type": "code",
   "execution_count": 6,
   "metadata": {},
   "outputs": [
    {
     "data": {
      "text/plain": [
       "True"
      ]
     },
     "execution_count": 6,
     "metadata": {},
     "output_type": "execute_result"
    }
   ],
   "source": [
    "canBeEqual( [1,2,3,4], [2,4,1,3])"
   ]
  },
  {
   "cell_type": "code",
   "execution_count": 7,
   "metadata": {},
   "outputs": [
    {
     "data": {
      "text/plain": [
       "True"
      ]
     },
     "execution_count": 7,
     "metadata": {},
     "output_type": "execute_result"
    }
   ],
   "source": [
    "canBeEqual( [7], [7])"
   ]
  },
  {
   "cell_type": "markdown",
   "metadata": {},
   "source": [
    "## 461. Hamming Distance\n",
    "\n",
    "The Hamming distance between two integers is the number of positions at which the corresponding bits are different.\n",
    "\n",
    "Given two integers x and y, calculate the Hamming distance.\n",
    "\n",
    "Note:\n",
    "0 ≤ x, y < 231.\n",
    "\n",
    "Example:\n",
    "\n",
    "Input: x = 1, y = 4\n",
    "\n",
    "Output: 2\n",
    "\n",
    "Explanation:\n",
    "1   (0 0 0 1)\n",
    "4   (0 1 0 0)\n",
    "       ↑   ↑\n",
    "\n",
    "The above arrows point to positions where the corresponding bits are different."
   ]
  },
  {
   "cell_type": "code",
   "execution_count": 3,
   "metadata": {},
   "outputs": [],
   "source": [
    "def hd(x,y):\n",
    "    return bin(x^y).count('1')"
   ]
  },
  {
   "cell_type": "code",
   "execution_count": 4,
   "metadata": {},
   "outputs": [
    {
     "data": {
      "text/plain": [
       "2"
      ]
     },
     "execution_count": 4,
     "metadata": {},
     "output_type": "execute_result"
    }
   ],
   "source": [
    "hd(1,4)"
   ]
  },
  {
   "cell_type": "markdown",
   "metadata": {},
   "source": [
    "## 155. Min Stack\n",
    "\n",
    "Design a stack that supports push, pop, top, and retrieving the minimum element in constant time.\n",
    "\n",
    "push(x) -- Push element x onto stack.\n",
    "pop() -- Removes the element on top of the stack.\n",
    "top() -- Get the top element.\n",
    "getMin() -- Retrieve the minimum element in the stack.\n",
    " \n",
    "\n",
    "Example 1:\n",
    "\n",
    "Input\n",
    "[\"MinStack\",\"push\",\"push\",\"push\",\"getMin\",\"pop\",\"top\",\"getMin\"]\n",
    "[[],[-2],[0],[-3],[],[],[],[]]\n",
    "\n",
    "Output\n",
    "[null,null,null,null,-3,null,0,-2]\n",
    "\n",
    "Explanation\n",
    "MinStack minStack = new MinStack();\n",
    "minStack.push(-2);\n",
    "minStack.push(0);\n",
    "minStack.push(-3);\n",
    "minStack.getMin(); // return -3\n",
    "minStack.pop();\n",
    "minStack.top();    // return 0\n",
    "minStack.getMin(); // return -2"
   ]
  },
  {
   "cell_type": "code",
   "execution_count": 20,
   "metadata": {},
   "outputs": [],
   "source": [
    "class MinStack:\n",
    "\n",
    "    def __init__(self):\n",
    "        self.stack=[]\n",
    "        \n",
    "\n",
    "    def push(self, x):\n",
    "        if not self.stack:\n",
    "            self.stack.append((x,x))\n",
    "            return\n",
    "        cur_min=self.stack[-1][1]\n",
    "        self.stack.append((x,min(x,cur_min)))\n",
    "    \n",
    "    def show(self):\n",
    "        return [i[0] for i in self.stack]\n",
    "        \n",
    "        \n",
    "\n",
    "    def pop(self):\n",
    "        self.stack.pop()\n",
    "        \n",
    "\n",
    "    def top(self):\n",
    "        return self.stack[-1][0]\n",
    "        \n",
    "\n",
    "    def getMin(self):\n",
    "        return self.stack[-1][1]"
   ]
  },
  {
   "cell_type": "code",
   "execution_count": 21,
   "metadata": {},
   "outputs": [],
   "source": [
    "ms=MinStack()"
   ]
  },
  {
   "cell_type": "code",
   "execution_count": 22,
   "metadata": {},
   "outputs": [],
   "source": [
    "ms.push(10)"
   ]
  },
  {
   "cell_type": "code",
   "execution_count": 23,
   "metadata": {},
   "outputs": [],
   "source": [
    "ms.push(3)"
   ]
  },
  {
   "cell_type": "code",
   "execution_count": 24,
   "metadata": {},
   "outputs": [],
   "source": [
    "ms.push(4)"
   ]
  },
  {
   "cell_type": "code",
   "execution_count": 25,
   "metadata": {},
   "outputs": [],
   "source": [
    "ms.push(7)"
   ]
  },
  {
   "cell_type": "code",
   "execution_count": 26,
   "metadata": {},
   "outputs": [
    {
     "data": {
      "text/plain": [
       "[10, 3, 4, 7]"
      ]
     },
     "execution_count": 26,
     "metadata": {},
     "output_type": "execute_result"
    }
   ],
   "source": [
    "ms.show()"
   ]
  },
  {
   "cell_type": "code",
   "execution_count": 28,
   "metadata": {},
   "outputs": [],
   "source": [
    "ms.pop()"
   ]
  },
  {
   "cell_type": "code",
   "execution_count": 29,
   "metadata": {},
   "outputs": [
    {
     "data": {
      "text/plain": [
       "[10, 3, 4]"
      ]
     },
     "execution_count": 29,
     "metadata": {},
     "output_type": "execute_result"
    }
   ],
   "source": [
    "ms.show()"
   ]
  },
  {
   "cell_type": "code",
   "execution_count": 30,
   "metadata": {},
   "outputs": [
    {
     "data": {
      "text/plain": [
       "4"
      ]
     },
     "execution_count": 30,
     "metadata": {},
     "output_type": "execute_result"
    }
   ],
   "source": [
    "ms.top()"
   ]
  },
  {
   "cell_type": "code",
   "execution_count": 31,
   "metadata": {},
   "outputs": [
    {
     "data": {
      "text/plain": [
       "3"
      ]
     },
     "execution_count": 31,
     "metadata": {},
     "output_type": "execute_result"
    }
   ],
   "source": [
    "ms.getMin()"
   ]
  },
  {
   "cell_type": "markdown",
   "metadata": {},
   "source": [
    "## 172. Factorial Trailing Zeroes\n",
    "\n",
    "Given an integer n, return the number of trailing zeroes in n!.\n",
    "\n",
    "Example 1:\n",
    "\n",
    "Input: 3\n",
    "Output: 0\n",
    "Explanation: 3! = 6, no trailing zero.\n",
    "Example 2:\n",
    "\n",
    "Input: 5\n",
    "Output: 1\n",
    "Explanation: 5! = 120, one trailing zero.\n",
    "Note: Your solution should be in logarithmic time complexity."
   ]
  },
  {
   "cell_type": "code",
   "execution_count": 32,
   "metadata": {},
   "outputs": [],
   "source": [
    "def trailingZeroes(n):\n",
    "        z=0\n",
    "        while n>0:\n",
    "            n=n//5\n",
    "            z=z+n\n",
    "        return z"
   ]
  },
  {
   "cell_type": "code",
   "execution_count": 33,
   "metadata": {},
   "outputs": [
    {
     "data": {
      "text/plain": [
       "0"
      ]
     },
     "execution_count": 33,
     "metadata": {},
     "output_type": "execute_result"
    }
   ],
   "source": [
    "trailingZeroes(3)"
   ]
  },
  {
   "cell_type": "code",
   "execution_count": 34,
   "metadata": {},
   "outputs": [
    {
     "data": {
      "text/plain": [
       "24"
      ]
     },
     "execution_count": 34,
     "metadata": {},
     "output_type": "execute_result"
    }
   ],
   "source": [
    "trailingZeroes(100)"
   ]
  },
  {
   "cell_type": "markdown",
   "metadata": {},
   "source": [
    "## 463. Island Perimeter\n",
    "\n",
    "You are given a map in form of a two-dimensional integer grid where 1 represents land and 0 represents water.\n",
    "\n",
    "Grid cells are connected horizontally/vertically (not diagonally). The grid is completely surrounded by water, and there is exactly one island (i.e., one or more connected land cells).\n",
    "\n",
    "The island doesn't have \"lakes\" (water inside that isn't connected to the water around the island). One cell is a square with side length 1. The grid is rectangular, width and height don't exceed 100. Determine the perimeter of the island.\n",
    "\n",
    " \n",
    "\n",
    "Example:\n",
    "\n",
    "Input:\n",
    "[[0,1,0,0],\n",
    " [1,1,1,0],\n",
    " [0,1,0,0],\n",
    " [1,1,0,0]]\n",
    "\n",
    "Output: 16\n",
    "\n",
    "Explanation: The perimeter is the 16 yellow stripes in the image below:\n",
    "\n"
   ]
  },
  {
   "cell_type": "code",
   "execution_count": 35,
   "metadata": {},
   "outputs": [],
   "source": [
    "def island(g):\n",
    "    row=len(g)\n",
    "    col=len(g)\n",
    "    area=0\n",
    "    for r in range(row):\n",
    "        for c in range(col):\n",
    "            if g[r][c]==1:\n",
    "                if r==0:\n",
    "                    up=0\n",
    "                else:\n",
    "                    up=g[r-1][c]\n",
    "                if r==row-1:\n",
    "                    down=0\n",
    "                else:\n",
    "                    down=g[r+1][c]\n",
    "                if c==0:\n",
    "                    left=0\n",
    "                else:\n",
    "                    left=g[r][c-1]\n",
    "                if c==col-1:\n",
    "                    right=0\n",
    "                else:\n",
    "                    right=g[r][c+1]\n",
    "                area+=4-(up+down+right+left)\n",
    "    return area"
   ]
  },
  {
   "cell_type": "code",
   "execution_count": 36,
   "metadata": {},
   "outputs": [
    {
     "data": {
      "text/plain": [
       "16"
      ]
     },
     "execution_count": 36,
     "metadata": {},
     "output_type": "execute_result"
    }
   ],
   "source": [
    "island([[0,1,0,0],\n",
    " [1,1,1,0],\n",
    " [0,1,0,0],\n",
    " [1,1,0,0]]\n",
    ")"
   ]
  },
  {
   "cell_type": "markdown",
   "metadata": {},
   "source": [
    "## Trace the Complete Path of a Journey"
   ]
  },
  {
   "cell_type": "markdown",
   "metadata": {},
   "source": [
    "Sample Input \n",
    "\n",
    "d = {\n",
    "  \"NewYork\": \"Chicago\",\n",
    "  \"Boston\": \"Texas\",\n",
    "  \"Missouri\": \"NewYork\",\n",
    "  \"Texas\": \"Missouri\"\n",
    "}\n",
    "\n",
    "Sample Output\n",
    "\n",
    "[[\"Boston\", \"Texas\"] , [\"Texas\", \"Missouri\"] , [\"Missouri\", \"NewYork\"] , [\"NewYork\", \"Chicago\"]]"
   ]
  },
  {
   "cell_type": "code",
   "execution_count": 1,
   "metadata": {},
   "outputs": [],
   "source": [
    "def trace_path(d):  # A Map object\n",
    "    result=[]\n",
    "    for k,v in d.items():\n",
    "        if k not in d.values():\n",
    "            st=k\n",
    "    from_loc=st\n",
    "    to_loc=d.get(from_loc)\n",
    "    while to_loc is not None:\n",
    "        result.append([from_loc,to_loc])\n",
    "        from_loc=to_loc\n",
    "        to_loc=d.get(from_loc)\n",
    "    return result"
   ]
  },
  {
   "cell_type": "code",
   "execution_count": 2,
   "metadata": {},
   "outputs": [],
   "source": [
    "d = { \"NewYork\": \"Chicago\", \"Boston\": \"Texas\", \"Missouri\": \"NewYork\", \"Texas\": \"Missouri\" }"
   ]
  },
  {
   "cell_type": "code",
   "execution_count": 3,
   "metadata": {},
   "outputs": [
    {
     "data": {
      "text/plain": [
       "[['Boston', 'Texas'],\n",
       " ['Texas', 'Missouri'],\n",
       " ['Missouri', 'NewYork'],\n",
       " ['NewYork', 'Chicago']]"
      ]
     },
     "execution_count": 3,
     "metadata": {},
     "output_type": "execute_result"
    }
   ],
   "source": [
    "trace_path(d)"
   ]
  },
  {
   "cell_type": "code",
   "execution_count": null,
   "metadata": {},
   "outputs": [],
   "source": []
  }
 ],
 "metadata": {
  "kernelspec": {
   "display_name": "Python 3",
   "language": "python",
   "name": "python3"
  },
  "language_info": {
   "codemirror_mode": {
    "name": "ipython",
    "version": 3
   },
   "file_extension": ".py",
   "mimetype": "text/x-python",
   "name": "python",
   "nbconvert_exporter": "python",
   "pygments_lexer": "ipython3",
   "version": "3.8.5"
  }
 },
 "nbformat": 4,
 "nbformat_minor": 2
}
