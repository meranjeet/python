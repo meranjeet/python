{
 "cells": [
  {
   "cell_type": "code",
   "execution_count": 1,
   "metadata": {},
   "outputs": [],
   "source": [
    "import traceback"
   ]
  },
  {
   "cell_type": "code",
   "execution_count": 2,
   "metadata": {},
   "outputs": [
    {
     "name": "stdout",
     "output_type": "stream",
     "text": [
      "The traceback info was written to errorInfo.txt.\n"
     ]
    }
   ],
   "source": [
    "try:\n",
    "         raise Exception('This is the error message.')\n",
    "except:\n",
    "         errorFile = open('errorInfo.txt', 'w')\n",
    "         errorFile.write(traceback.format_exc())\n",
    "         errorFile.close()\n",
    "         print('The traceback info was written to errorInfo.txt.')\n"
   ]
  },
  {
   "cell_type": "code",
   "execution_count": 4,
   "metadata": {},
   "outputs": [
    {
     "name": "stderr",
     "output_type": "stream",
     "text": [
      " 2019-04-03 17:40:04,046 - DEBUG- Start of program\n",
      " 2019-04-03 17:40:04,052 - DEBUG- Start of factorial(5)\n",
      " 2019-04-03 17:40:04,053 - DEBUG- i is 0, total is 0\n",
      " 2019-04-03 17:40:04,055 - DEBUG- i is 1, total is 0\n",
      " 2019-04-03 17:40:04,056 - DEBUG- i is 2, total is 0\n",
      " 2019-04-03 17:40:04,058 - DEBUG- i is 3, total is 0\n",
      " 2019-04-03 17:40:04,059 - DEBUG- i is 4, total is 0\n",
      " 2019-04-03 17:40:04,060 - DEBUG- i is 5, total is 0\n",
      " 2019-04-03 17:40:04,061 - DEBUG- End of factorial(5)\n",
      " 2019-04-03 17:40:04,063 - DEBUG- End of program\n"
     ]
    },
    {
     "name": "stdout",
     "output_type": "stream",
     "text": [
      "0\n"
     ]
    }
   ],
   "source": [
    "import logging\n",
    "logging.basicConfig(level=logging.DEBUG, format=' %(asctime)s - %(levelname)s- %(message)s')\n",
    "logging.debug('Start of program')\n",
    "\n",
    "def factorial(n):\n",
    "    logging.debug('Start of factorial(%s)' % (n))\n",
    "    total = 1\n",
    "    for i in range(n + 1):\n",
    "        total *= i\n",
    "        logging.debug('i is ' + str(i) + ', total is ' + str(total))\n",
    "    logging.debug('End of factorial(%s)' % (n))\n",
    "    return total\n",
    "\n",
    "print(factorial(5))\n",
    "logging.debug('End of program')"
   ]
  },
  {
   "cell_type": "code",
   "execution_count": null,
   "metadata": {},
   "outputs": [],
   "source": []
  }
 ],
 "metadata": {
  "kernelspec": {
   "display_name": "Python 3",
   "language": "python",
   "name": "python3"
  },
  "language_info": {
   "codemirror_mode": {
    "name": "ipython",
    "version": 3
   },
   "file_extension": ".py",
   "mimetype": "text/x-python",
   "name": "python",
   "nbconvert_exporter": "python",
   "pygments_lexer": "ipython3",
   "version": "3.5.4"
  }
 },
 "nbformat": 4,
 "nbformat_minor": 2
}
