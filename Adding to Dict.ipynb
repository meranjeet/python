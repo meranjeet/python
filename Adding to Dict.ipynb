{
 "cells": [
  {
   "cell_type": "code",
   "execution_count": 12,
   "metadata": {},
   "outputs": [],
   "source": [
    "Dict1={'A':1,'B':2,'C':3}\n",
    "\n",
    "Dict2={'B':4,'C':5,'D':6}\n",
    "\n"
   ]
  },
  {
   "cell_type": "code",
   "execution_count": 15,
   "metadata": {},
   "outputs": [
    {
     "data": {
      "text/plain": [
       "{'A': 1, 'B': 6, 'C': 8, 'D': 6}"
      ]
     },
     "execution_count": 15,
     "metadata": {},
     "output_type": "execute_result"
    }
   ],
   "source": [
    "Sum={}\n",
    "\n",
    "for i in Dict1.keys():\n",
    "    for j in Dict2.keys():\n",
    "        if i==j:\n",
    "            Sum[i]=Dict1[i]+Dict2[j]\n",
    "for i in Dict1.keys():\n",
    "    if i not in Dict2.keys():\n",
    "             Sum[i]=Dict1[i]\n",
    "for i in Dict2.keys():\n",
    "    if i not in Dict1.keys():\n",
    "        Sum[i]=Dict2[i]\n",
    "Sum"
   ]
  },
  {
   "cell_type": "code",
   "execution_count": null,
   "metadata": {},
   "outputs": [],
   "source": []
  }
 ],
 "metadata": {
  "kernelspec": {
   "display_name": "Python 3",
   "language": "python",
   "name": "python3"
  },
  "language_info": {
   "codemirror_mode": {
    "name": "ipython",
    "version": 3
   },
   "file_extension": ".py",
   "mimetype": "text/x-python",
   "name": "python",
   "nbconvert_exporter": "python",
   "pygments_lexer": "ipython3",
   "version": "3.5.4"
  }
 },
 "nbformat": 4,
 "nbformat_minor": 2
}
