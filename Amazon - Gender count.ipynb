{
 "cells": [
  {
   "cell_type": "code",
   "execution_count": 55,
   "metadata": {},
   "outputs": [
    {
     "name": "stdout",
     "output_type": "stream",
     "text": [
      "{'Man': 6, 'Woman': 3}\n"
     ]
    }
   ],
   "source": [
    "import re\n",
    "\n",
    "gender =['Man','Men','MAN','MEN','MON','meN','man','Woman','WOMEN','women']\n",
    "gender_count={}\n",
    "\n",
    "\n",
    "def gender_count(gender):\n",
    "    gender_count={}\n",
    "    check_man = re.compile(r'[Mm][AaEe][Nn]*')\n",
    "    for i in gender:\n",
    "    #print(i)\n",
    "         if check_man.match(i):\n",
    "            gender_count.setdefault('Man',0)\n",
    "            gender_count['Man']=gender_count['Man']+1\n",
    "#print(gender_count)\n",
    "    check_woman = re.compile(r'[Ww][Oo][Mm][EeAa][Nn]*')\n",
    "    for i in gender:\n",
    "    #print(i)\n",
    "        if check_woman.match(i):\n",
    "            gender_count.setdefault('Woman',0)\n",
    "            gender_count['Woman']=gender_count['Woman']+1\n",
    "    print(gender_count)\n",
    "        \n",
    "gender_count(gender)"
   ]
  },
  {
   "cell_type": "code",
   "execution_count": 56,
   "metadata": {},
   "outputs": [
    {
     "name": "stdout",
     "output_type": "stream",
     "text": [
      "Man\n",
      "Men\n",
      "MAN\n",
      "MEN\n",
      "meN\n",
      "man\n",
      "Men's\n"
     ]
    }
   ],
   "source": [
    "import re\n",
    "\n",
    "gender =['Man','Men','MAN','MEN','MON','meN','man','Men\\'s','Woman','WOMEN','women']\n",
    "check_man = re.compile(r'[Mm][AaEe][Nn]*')\n",
    "for i in gender:\n",
    "    #print(i)\n",
    "    if check_man.match(i):\n",
    "        print(i)"
   ]
  },
  {
   "cell_type": "code",
   "execution_count": null,
   "metadata": {},
   "outputs": [],
   "source": []
  },
  {
   "cell_type": "code",
   "execution_count": null,
   "metadata": {},
   "outputs": [],
   "source": []
  }
 ],
 "metadata": {
  "kernelspec": {
   "display_name": "Python 3",
   "language": "python",
   "name": "python3"
  },
  "language_info": {
   "codemirror_mode": {
    "name": "ipython",
    "version": 3
   },
   "file_extension": ".py",
   "mimetype": "text/x-python",
   "name": "python",
   "nbconvert_exporter": "python",
   "pygments_lexer": "ipython3",
   "version": "3.5.4"
  }
 },
 "nbformat": 4,
 "nbformat_minor": 2
}
