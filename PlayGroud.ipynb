{
 "cells": [
  {
   "cell_type": "code",
   "execution_count": 9,
   "metadata": {},
   "outputs": [
    {
     "data": {
      "text/plain": [
       "'C:\\\\Users\\\\469422'"
      ]
     },
     "execution_count": 9,
     "metadata": {},
     "output_type": "execute_result"
    }
   ],
   "source": [
    "import os\n",
    "import re\n",
    "\n",
    "os.getcwd()"
   ]
  },
  {
   "cell_type": "code",
   "execution_count": 17,
   "metadata": {},
   "outputs": [
    {
     "name": "stdout",
     "output_type": "stream",
     "text": [
      "Enter ADJECTIVE:a\n",
      "Enter NOUN:n\n",
      "Enter VERB:v\n"
     ]
    }
   ],
   "source": [
    "import os\n",
    "import re\n",
    "\n",
    "write_file = open('C:\\\\Users\\\\469422\\\\python\\\\mad.txt','w')\n",
    "\n",
    "write_file.write('The ADJECTIVE panda walked to the NOUN and then VERB. A nearby NOUN was unaffected by these events.')\n",
    "\n",
    "write_file.close()\n",
    "\n",
    "read_file=open('C:\\\\Users\\\\469422\\\\python\\\\mad.txt')\n",
    "\n",
    "content =read_file.read()\n",
    "#print(content)\n",
    "adj=input('Enter ADJECTIVE:')\n",
    "adj_result=re.sub('ADJECTIVE',adj,content)\n",
    "#print(adj_result)\n",
    "Noun=input('Enter NOUN:')\n",
    "Noun_result=re.sub('NOUN',Noun,adj_result)\n",
    "\n",
    "Verb=input('Enter VERB:')\n",
    "verb_result=re.sub('VERB',Verb,Noun_result)\n",
    "\n",
    "write_file = open('C:\\\\Users\\\\469422\\\\python\\\\new_mad.txt','w')\n",
    "write_file.write(verb_result)\n",
    "\n",
    "write_file.close()"
   ]
  },
  {
   "cell_type": "code",
   "execution_count": 12,
   "metadata": {},
   "outputs": [
    {
     "name": "stdout",
     "output_type": "stream",
     "text": [
      "Enter ADJECTIVE:ranjeet\n"
     ]
    },
    {
     "data": {
      "text/plain": [
       "'The ranjeet panda walked to the NOUN and then VERB. A nearby NOUN was unaffected by these events.'"
      ]
     },
     "execution_count": 12,
     "metadata": {},
     "output_type": "execute_result"
    }
   ],
   "source": [
    "import re\n",
    "\n",
    "intp ='The ADJECTIVE panda walked to the NOUN and then VERB. A nearby NOUN was unaffected by these events.'\n",
    "adj=input('Enter ADJECTIVE:')\n",
    "adj_result=re.sub('ADJECTIVE',adj,content)\n",
    "adj_result"
   ]
  },
  {
   "cell_type": "code",
   "execution_count": null,
   "metadata": {},
   "outputs": [],
   "source": []
  }
 ],
 "metadata": {
  "kernelspec": {
   "display_name": "Python 3",
   "language": "python",
   "name": "python3"
  },
  "language_info": {
   "codemirror_mode": {
    "name": "ipython",
    "version": 3
   },
   "file_extension": ".py",
   "mimetype": "text/x-python",
   "name": "python",
   "nbconvert_exporter": "python",
   "pygments_lexer": "ipython3",
   "version": "3.5.4"
  }
 },
 "nbformat": 4,
 "nbformat_minor": 2
}
