{
 "cells": [
  {
   "cell_type": "markdown",
   "metadata": {},
   "source": [
    "Given a string and a non-negative int n, return a larger string that is n copies of the original string.\n",
    "\n",
    "\n",
    "string_times('Hi', 2) → 'HiHi'\n",
    "string_times('Hi', 3) → 'HiHiHi'\n",
    "string_times('Hi', 1) → 'Hi'\n",
    "\n",
    "\n",
    "\n",
    "def string_times(str, n):\n",
    "  i=0\n",
    "  a=''\n",
    "  while i < n:\n",
    "    a=str+a\n",
    "    i=i+1\n",
    "  return a"
   ]
  },
  {
   "cell_type": "markdown",
   "metadata": {},
   "source": [
    "Given a string and a non-negative int n, we'll say that the front of the string is the first 3 chars, or whatever is there if the string is less than length 3. Return n copies of the front;\n",
    "\n",
    "\n",
    "front_times('Chocolate', 2) → 'ChoCho'\n",
    "front_times('Chocolate', 3) → 'ChoChoCho'\n",
    "front_times('Abc', 3) → 'AbcAbcAbc'\n",
    "\n",
    "\n",
    "\n",
    "def front_times(str, n):\n",
    "  if len(str)>3:\n",
    "    stg=str[:3]\n",
    "    dummy=\"\"\n",
    "    i=0\n",
    "    while i<n:\n",
    "      dummy=dummy+stg\n",
    "      i=i+1\n",
    "    return dummy\n",
    "  else:\n",
    "    i=0\n",
    "    dummy=\"\"\n",
    "    while i<n:\n",
    "      dummy=str+dummy\n",
    "      i=i+1\n",
    "    return dummy"
   ]
  },
  {
   "cell_type": "markdown",
   "metadata": {},
   "source": [
    "Given a string, return a new string made of every other char starting with the first, so \"Hello\" yields \"Hlo\".\n",
    "\n",
    "\n",
    "string_bits('Hello') → 'Hlo'\n",
    "string_bits('Hi') → 'H'\n",
    "string_bits('Heeololeo') → 'Hello'\n",
    "\n",
    "\n",
    "def string_bits(str):\n",
    "  l=len(str)\n",
    "  i=0\n",
    "  k=''\n",
    "  for j in range(l):\n",
    "    if j%2==0:\n",
    "      k=k+str[j]\n",
    "  return k\n",
    "    "
   ]
  }
 ],
 "metadata": {
  "kernelspec": {
   "display_name": "Python 3",
   "language": "python",
   "name": "python3"
  },
  "language_info": {
   "codemirror_mode": {
    "name": "ipython",
    "version": 3
   },
   "file_extension": ".py",
   "mimetype": "text/x-python",
   "name": "python",
   "nbconvert_exporter": "python",
   "pygments_lexer": "ipython3",
   "version": "3.5.4"
  }
 },
 "nbformat": 4,
 "nbformat_minor": 2
}
