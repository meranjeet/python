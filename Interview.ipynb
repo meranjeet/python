{
 "cells": [
  {
   "cell_type": "markdown",
   "metadata": {},
   "source": [
    "##\tZoox -- Access JSON data and perform transformation"
   ]
  },
  {
   "cell_type": "code",
   "execution_count": 1,
   "metadata": {},
   "outputs": [
    {
     "data": {
      "text/plain": [
       "2904"
      ]
     },
     "execution_count": 1,
     "metadata": {},
     "output_type": "execute_result"
    }
   ],
   "source": [
    "import pandas as pd\n",
    "from pandas.io.json import json_normalize\n",
    "url = 'https://gbfs.bluebikes.com/gbfs/en/station_status.json'\n",
    "df = pd.read_json(url, orient='columns')\n",
    "d=pd.DataFrame(df['data'][0])\n",
    "d['num_bikes_available'].sum()"
   ]
  },
  {
   "cell_type": "markdown",
   "metadata": {},
   "source": [
    "## Earin -- Given file, count distinct name from file!"
   ]
  },
  {
   "cell_type": "code",
   "execution_count": 4,
   "metadata": {},
   "outputs": [
    {
     "data": {
      "text/plain": [
       "7"
      ]
     },
     "execution_count": 4,
     "metadata": {},
     "output_type": "execute_result"
    }
   ],
   "source": [
    "\tw=[]\n",
    "\tk=0\n",
    "\twith open('name.txt','r') as f:\n",
    "\t    for i in f.read().split():\n",
    "\t        if i not in w:\n",
    "\t            w.append(i)\n",
    "\t            k+=1\n",
    "\tk\n"
   ]
  },
  {
   "cell_type": "code",
   "execution_count": 5,
   "metadata": {},
   "outputs": [
    {
     "data": {
      "text/plain": [
       "180"
      ]
     },
     "execution_count": 5,
     "metadata": {},
     "output_type": "execute_result"
    }
   ],
   "source": [
    "\twd=[]\n",
    "\twith open('name.csv','r') as f:\n",
    "\t    w=f.read().splitlines()\n",
    "\t    for i in w:\n",
    "\t        wd=wd+i.split(',')\n",
    "\tlen(wd)\n"
   ]
  },
  {
   "cell_type": "markdown",
   "metadata": {},
   "source": [
    "## Zolando -- Maximun sum of sub array"
   ]
  },
  {
   "cell_type": "code",
   "execution_count": 6,
   "metadata": {},
   "outputs": [],
   "source": [
    "\tdef max_sub(a):\n",
    "\t    curr_sum=max_sum=a[0]\n",
    "\t    for i in range(1,len(a)):\n",
    "\t        curr_sum=max(a[i],curr_sum+a[i])\n",
    "\t        max_sum=max(curr_sum,max_sum)\n",
    "    return max_sum"
   ]
  },
  {
   "cell_type": "code",
   "execution_count": 7,
   "metadata": {},
   "outputs": [
    {
     "data": {
      "text/plain": [
       "12"
      ]
     },
     "execution_count": 7,
     "metadata": {},
     "output_type": "execute_result"
    }
   ],
   "source": [
    "max_sub([3,4,5])"
   ]
  },
  {
   "cell_type": "markdown",
   "metadata": {},
   "source": [
    "## Facebook\n"
   ]
  },
  {
   "cell_type": "code",
   "execution_count": 8,
   "metadata": {},
   "outputs": [
    {
     "data": {
      "text/plain": [
       "[None, 8, 8, 8, 9, 9]"
      ]
     },
     "execution_count": 8,
     "metadata": {},
     "output_type": "execute_result"
    }
   ],
   "source": [
    "\tx=[None,8,None,8,9,None]\n",
    "\tt=x[0]\n",
    "\to=[]\n",
    "\tfor i in x:\n",
    "\t    if i is None:\n",
    "\t        o.append(t)\n",
    "\t    else:\n",
    "\t        t=i\n",
    "\t        o.append(i)\n",
    "\to\n"
   ]
  },
  {
   "cell_type": "markdown",
   "metadata": {},
   "source": [
    "## read file - 1/1/2019 1 Ranjeet - get sum of unique names for a month"
   ]
  },
  {
   "cell_type": "code",
   "execution_count": 10,
   "metadata": {},
   "outputs": [
    {
     "data": {
      "text/html": [
       "<div>\n",
       "<style scoped>\n",
       "    .dataframe tbody tr th:only-of-type {\n",
       "        vertical-align: middle;\n",
       "    }\n",
       "\n",
       "    .dataframe tbody tr th {\n",
       "        vertical-align: top;\n",
       "    }\n",
       "\n",
       "    .dataframe thead th {\n",
       "        text-align: right;\n",
       "    }\n",
       "</style>\n",
       "<table border=\"1\" class=\"dataframe\">\n",
       "  <thead>\n",
       "    <tr style=\"text-align: right;\">\n",
       "      <th></th>\n",
       "      <th></th>\n",
       "      <th>Amount</th>\n",
       "    </tr>\n",
       "    <tr>\n",
       "      <th>month_year</th>\n",
       "      <th>Name</th>\n",
       "      <th></th>\n",
       "    </tr>\n",
       "  </thead>\n",
       "  <tbody>\n",
       "    <tr>\n",
       "      <th rowspan=\"2\" valign=\"top\">2019-01</th>\n",
       "      <th>Ajay</th>\n",
       "      <td>3</td>\n",
       "    </tr>\n",
       "    <tr>\n",
       "      <th>Ranjeet</th>\n",
       "      <td>9</td>\n",
       "    </tr>\n",
       "    <tr>\n",
       "      <th rowspan=\"2\" valign=\"top\">2019-02</th>\n",
       "      <th>Ajay</th>\n",
       "      <td>10</td>\n",
       "    </tr>\n",
       "    <tr>\n",
       "      <th>Ranjeet</th>\n",
       "      <td>6</td>\n",
       "    </tr>\n",
       "  </tbody>\n",
       "</table>\n",
       "</div>"
      ],
      "text/plain": [
       "                    Amount\n",
       "month_year Name           \n",
       "2019-01    Ajay          3\n",
       "           Ranjeet       9\n",
       "2019-02    Ajay         10\n",
       "           Ranjeet       6"
      ]
     },
     "execution_count": 10,
     "metadata": {},
     "output_type": "execute_result"
    }
   ],
   "source": [
    "import pandas as pd\n",
    "df=pd.read_csv('bank.csv')\n",
    "df['Date_Format'] = df['Date'].astype('datetime64[ns]')\n",
    "df['month_year'] = pd.to_datetime(df['Date_Format']).dt.to_period('M')\n",
    "df.groupby(['month_year','Name']).sum()\n"
   ]
  },
  {
   "cell_type": "markdown",
   "metadata": {},
   "source": [
    "## \tRollnext -- title: aa, autohor: ab, desc: lll, search anything and get author -> class. Library - data structure\n"
   ]
  },
  {
   "cell_type": "code",
   "execution_count": 11,
   "metadata": {},
   "outputs": [],
   "source": [
    "class book:\n",
    "    \n",
    "    book_dict={}\n",
    "    \n",
    "    \n",
    "    def __init__(self,title,author,desc):\n",
    "        self.title=title\n",
    "        self.author=author\n",
    "        self.desc=desc\n",
    "        desc_key=self.desc.split()\n",
    "        for j in desc_key:\n",
    "            if j not in book.book_dict:\n",
    "                book.book_dict[j]=['title: '+self.title+' || author: '+self.author]\n",
    "            else:\n",
    "                book.book_dict[j]=book.book_dict[j]+['title: '+self.title+' || author: '+self.author]\n",
    "        \n",
    "    def __str__(self):\n",
    "        return 'Title: '+self.title+'\\nAuthor: '+self.author+'\\nDesc: '+self.desc\n",
    "    \n",
    "    def show(self):\n",
    "        print('Book title is {}, Author of the book is {}'.format(self.title,self.author))\n",
    "        \n",
    "    def book_dict_show(self):\n",
    "        print(book.book_dict)\n",
    "        \n",
    "    def book_find(self,word):\n",
    "        self.word=word\n",
    "        for i in book.book_dict:\n",
    "            if word in book.book_dict.keys():\n",
    "                return book.book_dict[word]\n",
    "            \n",
    "    @classmethod\n",
    "    def from_string(cls, book_str):\n",
    "        title, author, desc = book_str.split('-')\n",
    "        return cls(title, author, desc)\n",
    "        "
   ]
  },
  {
   "cell_type": "code",
   "execution_count": 12,
   "metadata": {},
   "outputs": [],
   "source": [
    "book1=book('Concept of Physics','H C Verma','Physics Part1')\n",
    "book2=book('Elementry of Physcis','N D Tiwari','Physics Part2')\n",
    "book3=book('Mathematics','K C Sinha','Maths Part1')"
   ]
  },
  {
   "cell_type": "code",
   "execution_count": 13,
   "metadata": {},
   "outputs": [
    {
     "name": "stdout",
     "output_type": "stream",
     "text": [
      "Title: Concept of Physics\n",
      "Author: H C Verma\n",
      "Desc: Physics Part1\n"
     ]
    }
   ],
   "source": [
    "print(book1)"
   ]
  },
  {
   "cell_type": "code",
   "execution_count": 14,
   "metadata": {},
   "outputs": [
    {
     "name": "stdout",
     "output_type": "stream",
     "text": [
      "{'Physics': ['title: Concept of Physics || author: H C Verma', 'title: Elementry of Physcis || author: N D Tiwari'], 'Part1': ['title: Concept of Physics || author: H C Verma', 'title: Mathematics || author: K C Sinha'], 'Part2': ['title: Elementry of Physcis || author: N D Tiwari'], 'Maths': ['title: Mathematics || author: K C Sinha']}\n"
     ]
    }
   ],
   "source": [
    "print(book.book_dict)"
   ]
  },
  {
   "cell_type": "code",
   "execution_count": 15,
   "metadata": {},
   "outputs": [
    {
     "data": {
      "text/plain": [
       "{'Physics': ['title: Concept of Physics || author: H C Verma',\n",
       "  'title: Elementry of Physcis || author: N D Tiwari'],\n",
       " 'Part1': ['title: Concept of Physics || author: H C Verma',\n",
       "  'title: Mathematics || author: K C Sinha'],\n",
       " 'Part2': ['title: Elementry of Physcis || author: N D Tiwari'],\n",
       " 'Maths': ['title: Mathematics || author: K C Sinha']}"
      ]
     },
     "execution_count": 15,
     "metadata": {},
     "output_type": "execute_result"
    }
   ],
   "source": [
    "book.book_dict"
   ]
  },
  {
   "cell_type": "code",
   "execution_count": 16,
   "metadata": {},
   "outputs": [
    {
     "name": "stdout",
     "output_type": "stream",
     "text": [
      "{'Physics': ['title: Concept of Physics || author: H C Verma', 'title: Elementry of Physcis || author: N D Tiwari'], 'Part1': ['title: Concept of Physics || author: H C Verma', 'title: Mathematics || author: K C Sinha'], 'Part2': ['title: Elementry of Physcis || author: N D Tiwari'], 'Maths': ['title: Mathematics || author: K C Sinha']}\n"
     ]
    }
   ],
   "source": [
    "book.book_dict_show(object)"
   ]
  },
  {
   "cell_type": "code",
   "execution_count": 17,
   "metadata": {},
   "outputs": [
    {
     "data": {
      "text/plain": [
       "['title: Concept of Physics || author: H C Verma',\n",
       " 'title: Elementry of Physcis || author: N D Tiwari']"
      ]
     },
     "execution_count": 17,
     "metadata": {},
     "output_type": "execute_result"
    }
   ],
   "source": [
    "book.book_find(book,'Physics')"
   ]
  },
  {
   "cell_type": "markdown",
   "metadata": {},
   "source": [
    "## PlayStation -- Extract list from nested list"
   ]
  },
  {
   "cell_type": "code",
   "execution_count": 18,
   "metadata": {},
   "outputs": [],
   "source": [
    "def m_nl(x):\n",
    "    o=[]\n",
    "    def nl(x):\n",
    "        for i in x:\n",
    "            if type(i)==list:\n",
    "                nl(i)\n",
    "            else:\n",
    "                o.append(i)\n",
    "    nl(x)\n",
    "    return o"
   ]
  },
  {
   "cell_type": "code",
   "execution_count": 19,
   "metadata": {},
   "outputs": [
    {
     "data": {
      "text/plain": [
       "[1, 2, 3, 4, 5, 6, 7, 8]"
      ]
     },
     "execution_count": 19,
     "metadata": {},
     "output_type": "execute_result"
    }
   ],
   "source": [
    "x=[1,[2,3],[4,[5,6],7],8]\n",
    "m_nl(x)"
   ]
  },
  {
   "cell_type": "markdown",
   "metadata": {},
   "source": [
    "## Mercari -- Build cache"
   ]
  },
  {
   "cell_type": "markdown",
   "metadata": {},
   "source": [
    "https://realpython.com/python-memcache-efficient-caching/#check-and-set"
   ]
  },
  {
   "cell_type": "markdown",
   "metadata": {},
   "source": [
    "https://realpython.com/caching-in-django-with-redis/"
   ]
  },
  {
   "cell_type": "code",
   "execution_count": 1,
   "metadata": {},
   "outputs": [],
   "source": [
    "class advance_list:\n",
    "    def __init__(self,vals_list):\n",
    "        self.vals_list=vals_list\n",
    "    \n",
    "    def sum(self):\n",
    "        return sum(self.vals_list)"
   ]
  },
  {
   "cell_type": "code",
   "execution_count": 4,
   "metadata": {},
   "outputs": [],
   "source": [
    "my_list=advance_list([1,2,3])"
   ]
  },
  {
   "cell_type": "code",
   "execution_count": 5,
   "metadata": {},
   "outputs": [
    {
     "data": {
      "text/plain": [
       "6"
      ]
     },
     "execution_count": 5,
     "metadata": {},
     "output_type": "execute_result"
    }
   ],
   "source": [
    "my_list.sum()"
   ]
  },
  {
   "cell_type": "code",
   "execution_count": 6,
   "metadata": {},
   "outputs": [],
   "source": [
    "my_list=advance_list([1]*100000)"
   ]
  },
  {
   "cell_type": "code",
   "execution_count": 7,
   "metadata": {},
   "outputs": [
    {
     "data": {
      "text/plain": [
       "100000"
      ]
     },
     "execution_count": 7,
     "metadata": {},
     "output_type": "execute_result"
    }
   ],
   "source": [
    "my_list.sum()"
   ]
  },
  {
   "cell_type": "code",
   "execution_count": 14,
   "metadata": {},
   "outputs": [],
   "source": [
    "class advance_list:\n",
    "    def __init__(self,vals_list):\n",
    "        self.vals_list=vals_list\n",
    "        self.s=None\n",
    "    \n",
    "    def sum(self):\n",
    "        if self.s is None:\n",
    "            self.s=sum(self.vals_list)\n",
    "            \n",
    "        return self.s"
   ]
  },
  {
   "cell_type": "code",
   "execution_count": 15,
   "metadata": {},
   "outputs": [],
   "source": [
    "my_list_1=advance_list([2]*100000)"
   ]
  },
  {
   "cell_type": "code",
   "execution_count": 16,
   "metadata": {},
   "outputs": [
    {
     "data": {
      "text/plain": [
       "200000"
      ]
     },
     "execution_count": 16,
     "metadata": {},
     "output_type": "execute_result"
    }
   ],
   "source": [
    "my_list_1.sum()"
   ]
  },
  {
   "cell_type": "code",
   "execution_count": 17,
   "metadata": {},
   "outputs": [
    {
     "data": {
      "text/plain": [
       "200000"
      ]
     },
     "execution_count": 17,
     "metadata": {},
     "output_type": "execute_result"
    }
   ],
   "source": [
    "my_list_1.sum()"
   ]
  },
  {
   "cell_type": "code",
   "execution_count": 18,
   "metadata": {},
   "outputs": [
    {
     "name": "stdout",
     "output_type": "stream",
     "text": [
      "Collecting cached_property\n",
      "  Downloading cached_property-1.5.1-py2.py3-none-any.whl (6.0 kB)\n",
      "Installing collected packages: cached-property\n",
      "Successfully installed cached-property-1.5.1\n",
      "Note: you may need to restart the kernel to use updated packages.\n"
     ]
    },
    {
     "name": "stderr",
     "output_type": "stream",
     "text": [
      "WARNING: You are using pip version 20.0.2; however, version 20.1.1 is available.\n",
      "You should consider upgrading via the 'C:\\Users\\meran\\AppData\\Local\\Microsoft\\WindowsApps\\PythonSoftwareFoundation.Python.3.8_qbz5n2kfra8p0\\python.exe -m pip install --upgrade pip' command.\n"
     ]
    }
   ],
   "source": [
    "pip install cached_property"
   ]
  },
  {
   "cell_type": "code",
   "execution_count": 29,
   "metadata": {},
   "outputs": [],
   "source": [
    "from functools import cached_property\n",
    "class advance_list:\n",
    "    def __init__(self,vals_list):\n",
    "        self.values=vals_list\n",
    "        \n",
    "    @cached_property\n",
    "    def sum(self):\n",
    "        return sum(self.values)"
   ]
  },
  {
   "cell_type": "code",
   "execution_count": 30,
   "metadata": {},
   "outputs": [],
   "source": [
    "my_list_2=advance_list([3]*10000)"
   ]
  },
  {
   "cell_type": "code",
   "execution_count": 32,
   "metadata": {},
   "outputs": [
    {
     "data": {
      "text/plain": [
       "30000"
      ]
     },
     "execution_count": 32,
     "metadata": {},
     "output_type": "execute_result"
    }
   ],
   "source": [
    "my_list_2.sum"
   ]
  },
  {
   "cell_type": "code",
   "execution_count": 33,
   "metadata": {},
   "outputs": [
    {
     "name": "stdout",
     "output_type": "stream",
     "text": [
      "0.11170 seconds\n",
      "0.00000 seconds\n"
     ]
    }
   ],
   "source": [
    "from time import time\n",
    "\n",
    "mylist=advance_list([2]*10000000)\n",
    "start=time()\n",
    "mylist.sum\n",
    "end=time()\n",
    "print(f\"{(end-start):.5f} seconds\")\n",
    "\n",
    "\n",
    "start=time()\n",
    "mylist.sum\n",
    "end=time()\n",
    "print(f\"{(end-start):.5f} seconds\")"
   ]
  },
  {
   "cell_type": "markdown",
   "metadata": {},
   "source": [
    "#### Another method"
   ]
  },
  {
   "cell_type": "code",
   "execution_count": 34,
   "metadata": {},
   "outputs": [],
   "source": [
    "def mian_m(fucn):\n",
    "    cache=dict()\n",
    "    \n",
    "    def memo(*args):\n",
    "        if args in cache:\n",
    "            return cache[args]\n",
    "        result=fucn(*args)\n",
    "        cache[args]=result\n",
    "        return result\n",
    "    return memo"
   ]
  },
  {
   "cell_type": "code",
   "execution_count": 36,
   "metadata": {},
   "outputs": [],
   "source": [
    "def fibo(n):\n",
    "    if n==0:\n",
    "        return 0\n",
    "    elif n==1:\n",
    "        return 1\n",
    "    return fibo(n-1)+fibo(n-2)"
   ]
  },
  {
   "cell_type": "code",
   "execution_count": 37,
   "metadata": {},
   "outputs": [
    {
     "data": {
      "text/plain": [
       "4.008819399999993"
      ]
     },
     "execution_count": 37,
     "metadata": {},
     "output_type": "execute_result"
    }
   ],
   "source": [
    "import timeit\n",
    "timeit.timeit('fibo(35)', globals=globals(), number=1)"
   ]
  },
  {
   "cell_type": "code",
   "execution_count": 39,
   "metadata": {},
   "outputs": [
    {
     "data": {
      "text/plain": [
       "2.6803322000000662"
      ]
     },
     "execution_count": 39,
     "metadata": {},
     "output_type": "execute_result"
    }
   ],
   "source": [
    "x=mian_m(fibo)\n",
    "timeit.timeit('x(35)', globals=globals(), number=1)"
   ]
  },
  {
   "cell_type": "code",
   "execution_count": 40,
   "metadata": {},
   "outputs": [],
   "source": [
    "import functools\n",
    "\n",
    "@functools.lru_cache(maxsize=128)\n",
    "def fibo(n):\n",
    "    if n==0:\n",
    "        return 0\n",
    "    elif n==1:\n",
    "        return 1\n",
    "    return fibo(n-1)+fibo(n-2)"
   ]
  },
  {
   "cell_type": "code",
   "execution_count": 41,
   "metadata": {},
   "outputs": [
    {
     "data": {
      "text/plain": [
       "2.519999998185085e-05"
      ]
     },
     "execution_count": 41,
     "metadata": {},
     "output_type": "execute_result"
    }
   ],
   "source": [
    "timeit.timeit('fibo(37)', globals=globals(), number=1)"
   ]
  },
  {
   "cell_type": "code",
   "execution_count": 42,
   "metadata": {},
   "outputs": [
    {
     "data": {
      "text/plain": [
       "1.3999997463542968e-06"
      ]
     },
     "execution_count": 42,
     "metadata": {},
     "output_type": "execute_result"
    }
   ],
   "source": [
    "timeit.timeit('fibo(37)', globals=globals(), number=1)"
   ]
  },
  {
   "cell_type": "markdown",
   "metadata": {},
   "source": [
    "## Amazon and Zolando -- Triplet"
   ]
  },
  {
   "cell_type": "markdown",
   "metadata": {},
   "source": [
    "Given an array and a value, find if there is a triplet in array whose sum is equal to the given value. If there is such a triplet present in array, then print the triplet and return true. Else return false."
   ]
  },
  {
   "cell_type": "code",
   "execution_count": 43,
   "metadata": {},
   "outputs": [],
   "source": [
    "array = [12, 3, 4, 1, 6, 9]\n",
    "s = 24"
   ]
  },
  {
   "cell_type": "code",
   "execution_count": 3,
   "metadata": {},
   "outputs": [],
   "source": [
    "def triplet(a,s):\n",
    "    o=[]\n",
    "    for i in range(0,len(a)-2):\n",
    "        for j in range(i+1,len(a)-1):\n",
    "            for k in range(j+1,len(a)):\n",
    "                if (a[i]+a[j]+a[k]) <= s:\n",
    "                    o.append((a[i],a[j],a[k]))\n",
    "    return o"
   ]
  },
  {
   "cell_type": "code",
   "execution_count": 4,
   "metadata": {},
   "outputs": [
    {
     "data": {
      "text/plain": [
       "[(12, 3, 4),\n",
       " (12, 3, 1),\n",
       " (12, 3, 6),\n",
       " (12, 3, 9),\n",
       " (12, 4, 1),\n",
       " (12, 4, 6),\n",
       " (12, 1, 6),\n",
       " (12, 1, 9),\n",
       " (3, 4, 1),\n",
       " (3, 4, 6),\n",
       " (3, 4, 9),\n",
       " (3, 1, 6),\n",
       " (3, 1, 9),\n",
       " (3, 6, 9),\n",
       " (4, 1, 6),\n",
       " (4, 1, 9),\n",
       " (4, 6, 9),\n",
       " (1, 6, 9)]"
      ]
     },
     "execution_count": 4,
     "metadata": {},
     "output_type": "execute_result"
    }
   ],
   "source": [
    "triplet([12, 3, 4, 1, 6, 9],24)"
   ]
  },
  {
   "cell_type": "code",
   "execution_count": 1,
   "metadata": {},
   "outputs": [],
   "source": [
    "def triplet_1(a,s):\n",
    "    a.sort()\n",
    "    for i in range(0,len(a)-2):\n",
    "        l=i+1\n",
    "        r=len(a)-1\n",
    "        while(l<r):\n",
    "            if (a[i]+a[l]+a[r]) == s:\n",
    "                return (a[i],a[l],a[r])\n",
    "            elif (a[i]+a[l]+a[r])<s:\n",
    "                l=l+1\n",
    "            else:\n",
    "                r=r-1\n",
    "    return None"
   ]
  },
  {
   "cell_type": "code",
   "execution_count": 2,
   "metadata": {},
   "outputs": [
    {
     "data": {
      "text/plain": [
       "(3, 9, 12)"
      ]
     },
     "execution_count": 2,
     "metadata": {},
     "output_type": "execute_result"
    }
   ],
   "source": [
    "triplet_1([12, 3, 4, 1, 6, 9],24)"
   ]
  },
  {
   "cell_type": "markdown",
   "metadata": {},
   "source": [
    "## Amazon -- Find error files in dir/sub dir"
   ]
  },
  {
   "cell_type": "code",
   "execution_count": 6,
   "metadata": {},
   "outputs": [
    {
     "name": "stdout",
     "output_type": "stream",
     "text": [
      "C:\\Users\\meran\\python\\projects\\2020\\06\\01 2020_06_01_error.csv.txt\n",
      "C:\\Users\\meran\\python\\projects\\2020\\07\\02 2020_07_02_error.csv.txt\n",
      "C:\\Users\\meran\\python\\projects\\2020\\08\\03 2020_08_03_error.csv.txt\n"
     ]
    }
   ],
   "source": [
    "import os\n",
    "for root,d_names,f_names in os.walk('C:\\\\Users\\\\meran\\\\python\\\\projects'):\n",
    "    #print (root, d_names, f_names)\n",
    "    for i in f_names:\n",
    "        if 'error' in i:\n",
    "            print(root, i)"
   ]
  },
  {
   "cell_type": "markdown",
   "metadata": {},
   "source": [
    "## Amazon - Password encryption "
   ]
  },
  {
   "cell_type": "markdown",
   "metadata": {},
   "source": [
    "http://theautomatic.net/2020/04/28/how-to-hide-a-password-in-a-python-script/"
   ]
  },
  {
   "cell_type": "code",
   "execution_count": 7,
   "metadata": {},
   "outputs": [],
   "source": [
    "import keyring\n",
    "keyring.set_password(\"Database\", \"postgres\", \"ranjeet\")"
   ]
  },
  {
   "cell_type": "code",
   "execution_count": 8,
   "metadata": {},
   "outputs": [
    {
     "data": {
      "text/plain": [
       "'ranjeet'"
      ]
     },
     "execution_count": 8,
     "metadata": {},
     "output_type": "execute_result"
    }
   ],
   "source": [
    "keyring.get_password(\"Database\", \"postgres\")"
   ]
  },
  {
   "cell_type": "code",
   "execution_count": 10,
   "metadata": {},
   "outputs": [
    {
     "ename": "InterfaceError",
     "evalue": "('IM002', '[IM002] [Microsoft][ODBC Driver Manager] Data source name not found and no default driver specified (0) (SQLDriverConnect); [IM002] [Microsoft][ODBC Driver Manager] Invalid connection string attribute (0)')",
     "output_type": "error",
     "traceback": [
      "\u001b[1;31m---------------------------------------------------------------------------\u001b[0m",
      "\u001b[1;31mInterfaceError\u001b[0m                            Traceback (most recent call last)",
      "\u001b[1;32m<ipython-input-10-3f40c1e2c616>\u001b[0m in \u001b[0;36m<module>\u001b[1;34m\u001b[0m\n\u001b[0;32m      2\u001b[0m \u001b[1;32mimport\u001b[0m \u001b[0mpyodbc\u001b[0m\u001b[1;33m\u001b[0m\u001b[1;33m\u001b[0m\u001b[0m\n\u001b[0;32m      3\u001b[0m \u001b[1;33m\u001b[0m\u001b[0m\n\u001b[1;32m----> 4\u001b[1;33m \u001b[0mchannel\u001b[0m \u001b[1;33m=\u001b[0m \u001b[0mpyodbc\u001b[0m\u001b[1;33m.\u001b[0m\u001b[0mconnect\u001b[0m\u001b[1;33m(\u001b[0m\u001b[1;34m\"DRIVER={SQLite3 ODBC Driver};SERVER=localhost;DATABASE=sample_database.db;Uid=secret_username;Pwd=secret_password;'\"\u001b[0m\u001b[1;33m)\u001b[0m\u001b[1;33m\u001b[0m\u001b[1;33m\u001b[0m\u001b[0m\n\u001b[0m",
      "\u001b[1;31mInterfaceError\u001b[0m: ('IM002', '[IM002] [Microsoft][ODBC Driver Manager] Data source name not found and no default driver specified (0) (SQLDriverConnect); [IM002] [Microsoft][ODBC Driver Manager] Invalid connection string attribute (0)')"
     ]
    }
   ],
   "source": [
    "## example\n",
    "import pyodbc\n",
    " \n",
    "channel = pyodbc.connect(\"DRIVER={SQLite3 ODBC Driver};SERVER=localhost;DATABASE=sample_database.db;Uid=secret_username;Pwd=secret_password;'\")"
   ]
  },
  {
   "cell_type": "code",
   "execution_count": 11,
   "metadata": {},
   "outputs": [
    {
     "ename": "TypeError",
     "evalue": "can only concatenate str (not \"NoneType\") to str",
     "output_type": "error",
     "traceback": [
      "\u001b[1;31m---------------------------------------------------------------------------\u001b[0m",
      "\u001b[1;31mTypeError\u001b[0m                                 Traceback (most recent call last)",
      "\u001b[1;32m<ipython-input-11-ffac3ee6e6d5>\u001b[0m in \u001b[0;36m<module>\u001b[1;34m\u001b[0m\n\u001b[0;32m      2\u001b[0m \u001b[1;32mimport\u001b[0m \u001b[0mkeyring\u001b[0m\u001b[1;33m\u001b[0m\u001b[1;33m\u001b[0m\u001b[0m\n\u001b[0;32m      3\u001b[0m \u001b[1;33m\u001b[0m\u001b[0m\n\u001b[1;32m----> 4\u001b[1;33m \u001b[0mchannel\u001b[0m \u001b[1;33m=\u001b[0m \u001b[0mpyodbc\u001b[0m\u001b[1;33m.\u001b[0m\u001b[0mconnect\u001b[0m\u001b[1;33m(\u001b[0m\u001b[1;34m\"DRIVER={SQLite3 ODBC Driver};SERVER=localhost;DATABASE=sample_database.db;Uid=secret_username;Pwd=\"\u001b[0m \u001b[1;33m+\u001b[0m \u001b[0mkeyring\u001b[0m\u001b[1;33m.\u001b[0m\u001b[0mget_password\u001b[0m\u001b[1;33m(\u001b[0m\u001b[1;34m\"test\"\u001b[0m\u001b[1;33m,\u001b[0m \u001b[1;34m\"secret_username\"\u001b[0m\u001b[1;33m)\u001b[0m \u001b[1;33m+\u001b[0m \u001b[1;34m\";\"\u001b[0m\u001b[1;33m)\u001b[0m\u001b[1;33m\u001b[0m\u001b[1;33m\u001b[0m\u001b[0m\n\u001b[0m",
      "\u001b[1;31mTypeError\u001b[0m: can only concatenate str (not \"NoneType\") to str"
     ]
    }
   ],
   "source": [
    "import pyodbc\n",
    "import keyring\n",
    " \n",
    "channel = pyodbc.connect(\"DRIVER={SQLite3 ODBC Driver};SERVER=localhost;DATABASE=sample_database.db;Uid=secret_username;Pwd=\" + keyring.get_password(\"test\", \"secret_username\") + \";\")\n"
   ]
  },
  {
   "cell_type": "code",
   "execution_count": 12,
   "metadata": {},
   "outputs": [
    {
     "data": {
      "text/plain": [
       "'$pbkdf2-sha256$50000$cy7l/J.z1vo/JwSA8L63lg$x19uVeHlgMDWlxyPzR.WKgs.WNTYs9EuORfHcMKCfRI'"
      ]
     },
     "execution_count": 12,
     "metadata": {},
     "output_type": "execute_result"
    }
   ],
   "source": [
    "## Encryption\n",
    "\n",
    "from passlib.context import CryptContext\n",
    "# create CryptContext object\n",
    "context = CryptContext(\n",
    "        schemes=[\"pbkdf2_sha256\"],\n",
    "        default=\"pbkdf2_sha256\",\n",
    "        pbkdf2_sha256__default_rounds=50000\n",
    ")\n",
    " \n",
    " \n",
    "# hash password\n",
    "context.hash(\"test_password\")"
   ]
  },
  {
   "cell_type": "code",
   "execution_count": 13,
   "metadata": {},
   "outputs": [
    {
     "data": {
      "text/plain": [
       "True"
      ]
     },
     "execution_count": 13,
     "metadata": {},
     "output_type": "execute_result"
    }
   ],
   "source": [
    "hashed_password = context.hash(\"test_password\")\n",
    " \n",
    "context.verify(\"test_password\", hashed_password)"
   ]
  },
  {
   "cell_type": "code",
   "execution_count": 22,
   "metadata": {},
   "outputs": [],
   "source": [
    "## Another example\n",
    "\n",
    "import sys\n",
    "from base64 import b64encode, b64decode\n",
    "\n",
    "password=b64encode(\"ranjeet\".encode(\"utf-8\"))"
   ]
  },
  {
   "cell_type": "code",
   "execution_count": 23,
   "metadata": {},
   "outputs": [
    {
     "data": {
      "text/plain": [
       "b'cmFuamVldA=='"
      ]
     },
     "execution_count": 23,
     "metadata": {},
     "output_type": "execute_result"
    }
   ],
   "source": [
    "password"
   ]
  },
  {
   "cell_type": "code",
   "execution_count": 27,
   "metadata": {},
   "outputs": [
    {
     "name": "stdout",
     "output_type": "stream",
     "text": [
      "ranjeet\n"
     ]
    }
   ],
   "source": [
    "\n",
    "print(b64decode(password).decode(\"utf-8\"))"
   ]
  },
  {
   "cell_type": "code",
   "execution_count": 7,
   "metadata": {},
   "outputs": [
    {
     "data": {
      "text/plain": [
       "7"
      ]
     },
     "execution_count": 7,
     "metadata": {},
     "output_type": "execute_result"
    }
   ],
   "source": [
    "import fn\n",
    "fn.fn(3,4)"
   ]
  },
  {
   "cell_type": "markdown",
   "metadata": {},
   "source": [
    "## Wish -- Sort an array according to count of set bits"
   ]
  },
  {
   "cell_type": "markdown",
   "metadata": {},
   "source": [
    "Input: arr[] = {5, 2, 3, 9, 4, 6, 7, 15, 32};\n",
    "Output: 15 7 5 3 9 6 2 4 32\n",
    "Explanation:\n",
    "The integers in their binary representation are:\n",
    "15 -1111\n",
    "7  -0111\n",
    "5  -0101\n",
    "3  -0011\n",
    "9  -1001\n",
    "6  -0110\n",
    "2  -0010\n",
    "4- -0100\n",
    "32 -10000\n",
    "hence the non-increasing sorted order is:\n",
    "{15}, {7}, {5, 3, 9, 6}, {2, 4, 32}"
   ]
  },
  {
   "cell_type": "code",
   "execution_count": 8,
   "metadata": {},
   "outputs": [],
   "source": [
    "def bit_sort(I):\n",
    "    d={}\n",
    "    for i in I:\n",
    "        if bin(i)[2:].count('1') in d:\n",
    "            d[bin(i)[2:].count('1')].append(i)\n",
    "        else:    \n",
    "            d[bin(i)[2:].count('1')]=[i]\n",
    "    o=[]\n",
    "    for w in sorted(d.items(), reverse=True):\n",
    "        w[1].sort()\n",
    "        o=o+w[1]\n",
    "    return o"
   ]
  },
  {
   "cell_type": "code",
   "execution_count": 9,
   "metadata": {},
   "outputs": [
    {
     "data": {
      "text/plain": [
       "[15, 7, 3, 5, 6, 9, 2, 4, 32]"
      ]
     },
     "execution_count": 9,
     "metadata": {},
     "output_type": "execute_result"
    }
   ],
   "source": [
    "bit_sort([5, 2, 3, 9, 4, 6, 7, 15, 32])"
   ]
  },
  {
   "cell_type": "markdown",
   "metadata": {},
   "source": [
    "## Faire -- Top Amount"
   ]
  },
  {
   "cell_type": "code",
   "execution_count": 16,
   "metadata": {},
   "outputs": [
    {
     "name": "stdout",
     "output_type": "stream",
     "text": [
      "Name is : Ranjeet and Amount is : 15\n"
     ]
    }
   ],
   "source": [
    "import pandas as pd\n",
    "df=pd.read_csv('bank.csv')\n",
    "dfx=df.groupby(['Name']).agg('sum').reset_index().sort_values(by=['Amount'],ascending=False).head(1)\n",
    "print('Name is :',dfx['Name'][1] ,'and Amount is :',dfx['Amount'][1])\n"
   ]
  },
  {
   "cell_type": "markdown",
   "metadata": {},
   "source": [
    "## Facebook -- Avg Length of word in sentence"
   ]
  },
  {
   "cell_type": "code",
   "execution_count": 17,
   "metadata": {},
   "outputs": [],
   "source": [
    "def avg_sent(x):\n",
    "    return sum(len(i) for i in x.split(' '))/len(x.split(' '))"
   ]
  },
  {
   "cell_type": "code",
   "execution_count": 19,
   "metadata": {},
   "outputs": [
    {
     "data": {
      "text/plain": [
       "3.111111111111111"
      ]
     },
     "execution_count": 19,
     "metadata": {},
     "output_type": "execute_result"
    }
   ],
   "source": [
    "avg_sent('Name is : Ranjeet and Amount is : 15')"
   ]
  },
  {
   "cell_type": "markdown",
   "metadata": {},
   "source": [
    "## Facebook -- Valid IP address "
   ]
  },
  {
   "cell_type": "code",
   "execution_count": 20,
   "metadata": {},
   "outputs": [],
   "source": [
    "def valid_ip(ip):\n",
    "    try:\n",
    "        a=[i for i in ip.split('.') if int(i)>=0 and int(i)<=128]\n",
    "    except:\n",
    "        return False\n",
    "    return ip.count('.')==3 and len(a)==4  "
   ]
  },
  {
   "cell_type": "code",
   "execution_count": 21,
   "metadata": {},
   "outputs": [
    {
     "data": {
      "text/plain": [
       "True"
      ]
     },
     "execution_count": 21,
     "metadata": {},
     "output_type": "execute_result"
    }
   ],
   "source": [
    "valid_ip('120.2.3.40')"
   ]
  },
  {
   "cell_type": "code",
   "execution_count": 22,
   "metadata": {},
   "outputs": [
    {
     "data": {
      "text/plain": [
       "False"
      ]
     },
     "execution_count": 22,
     "metadata": {},
     "output_type": "execute_result"
    }
   ],
   "source": [
    "valid_ip('2.a.3.40')"
   ]
  },
  {
   "cell_type": "markdown",
   "metadata": {},
   "source": [
    "## Amazon -- Gender Count"
   ]
  },
  {
   "cell_type": "code",
   "execution_count": 24,
   "metadata": {},
   "outputs": [],
   "source": [
    "\n",
    "import re\n",
    "\n",
    "\n",
    "\n",
    "def gender_count(gender):\n",
    "    gender_count={}\n",
    "    check_man = re.compile(r'[Mm][AaEe][Nn]*')\n",
    "    for i in gender:\n",
    "    #print(i)\n",
    "         if check_man.match(i):\n",
    "            gender_count.setdefault('Man',0)\n",
    "            gender_count['Man']=gender_count['Man']+1\n",
    "#print(gender_count)\n",
    "    check_woman = re.compile(r'[Ww][Oo][Mm][EeAa][Nn]*')\n",
    "    for i in gender:\n",
    "    #print(i)\n",
    "        if check_woman.match(i):\n",
    "            gender_count.setdefault('Woman',0)\n",
    "            gender_count['Woman']=gender_count['Woman']+1\n",
    "    print(gender_count)\n",
    "        \n"
   ]
  },
  {
   "cell_type": "code",
   "execution_count": 25,
   "metadata": {},
   "outputs": [
    {
     "name": "stdout",
     "output_type": "stream",
     "text": [
      "{'Man': 6, 'Woman': 3}\n"
     ]
    }
   ],
   "source": [
    "gender =['Man','Men','MAN','MEN','MON','meN','man','Woman','WOMEN','women']\n",
    "gender_count(gender)"
   ]
  },
  {
   "cell_type": "markdown",
   "metadata": {},
   "source": [
    "## Zolando -- remove 'AB' 'BA' 'CD' 'DC'"
   ]
  },
  {
   "cell_type": "code",
   "execution_count": 27,
   "metadata": {},
   "outputs": [],
   "source": [
    "def rm(x):\n",
    "    z=x.count('BA')+ x.count('AB') + x.count('CD') + x.count('DC')\n",
    "    while z!=0:\n",
    "        x=x.replace('BA','')\n",
    "        x=x.replace('AB','')\n",
    "        x=x.replace('CD','')\n",
    "        x=x.replace('DC','')\n",
    "        z=x.count('BA')+ x.count('AB') + x.count('CD') + x.count('DC')\n",
    "    return x\n",
    "\n",
    "    "
   ]
  },
  {
   "cell_type": "code",
   "execution_count": 29,
   "metadata": {},
   "outputs": [
    {
     "data": {
      "text/plain": [
       "'Hum yaar hain tumhare'"
      ]
     },
     "execution_count": 29,
     "metadata": {},
     "output_type": "execute_result"
    }
   ],
   "source": [
    "rm('Hum yABaar hBAain tumhaCDre')"
   ]
  },
  {
   "cell_type": "markdown",
   "metadata": {},
   "source": [
    "## Zolando -- Given an integer array ‘arr[]’ of size n, find sum of all sub-arrays of given array."
   ]
  },
  {
   "cell_type": "code",
   "execution_count": 32,
   "metadata": {},
   "outputs": [],
   "source": [
    "def sum_arry(l):\n",
    "    return sum([sum(l[i:j])  for i in range(len(l)) for j in range(i+1,len(l)+1)])"
   ]
  },
  {
   "cell_type": "code",
   "execution_count": 33,
   "metadata": {},
   "outputs": [
    {
     "data": {
      "text/plain": [
       "20"
      ]
     },
     "execution_count": 33,
     "metadata": {},
     "output_type": "execute_result"
    }
   ],
   "source": [
    "sum_arry([1,2,3])"
   ]
  },
  {
   "cell_type": "code",
   "execution_count": 39,
   "metadata": {},
   "outputs": [],
   "source": [
    "def sum_arry_1(l):\n",
    "    s=0\n",
    "    for i in range(len(l)):\n",
    "        s+=(l[i]*(len(l)-i)*(i+1))\n",
    "    return s"
   ]
  },
  {
   "cell_type": "code",
   "execution_count": 40,
   "metadata": {},
   "outputs": [
    {
     "data": {
      "text/plain": [
       "20"
      ]
     },
     "execution_count": 40,
     "metadata": {},
     "output_type": "execute_result"
    }
   ],
   "source": [
    "sum_arry_1([1,2,3])"
   ]
  },
  {
   "cell_type": "code",
   "execution_count": null,
   "metadata": {},
   "outputs": [],
   "source": []
  }
 ],
 "metadata": {
  "kernelspec": {
   "display_name": "Python 3",
   "language": "python",
   "name": "python3"
  },
  "language_info": {
   "codemirror_mode": {
    "name": "ipython",
    "version": 3
   },
   "file_extension": ".py",
   "mimetype": "text/x-python",
   "name": "python",
   "nbconvert_exporter": "python",
   "pygments_lexer": "ipython3",
   "version": "3.8.5"
  }
 },
 "nbformat": 4,
 "nbformat_minor": 4
}
